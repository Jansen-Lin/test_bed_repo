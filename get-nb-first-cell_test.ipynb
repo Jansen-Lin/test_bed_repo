{
 "cells": [
  {
   "cell_type": "code",
   "execution_count": 1,
   "metadata": {},
   "outputs": [],
   "source": [
    "import os\n",
    "import re\n",
    "import numpy as np"
   ]
  },
  {
   "cell_type": "code",
   "execution_count": 2,
   "metadata": {},
   "outputs": [],
   "source": [
    "# Change this to the directory containing your notebooks\n",
    "notebook_dir = 'notebook'"
   ]
  },
  {
   "cell_type": "code",
   "execution_count": 3,
   "metadata": {},
   "outputs": [
    {
     "name": "stdout",
     "output_type": "stream",
     "text": [
      "['notebook_1.ipynb', 'notebook_2.ipynb', 'notebook_3.ipynb', 'notebook_4.ipynb']\n"
     ]
    }
   ],
   "source": [
    "# Collect the names of all notebooks in the directory\n",
    "notebook_names = [f for f in os.listdir(notebook_dir) if f.endswith('.ipynb')]\n",
    "print(notebook_names)"
   ]
  },
  {
   "cell_type": "code",
   "execution_count": 4,
   "metadata": {},
   "outputs": [],
   "source": [
    "# Initialize an empty list to store the titles and descriptions\n",
    "titles_and_descriptions = []\n",
    "\n",
    "# Iterate over the notebooks\n",
    "for notebook_name in notebook_names:\n",
    "  # Read the notebook file\n",
    "  with open(os.path.join(notebook_dir, notebook_name), 'r') as f:\n",
    "    notebook_text = f.read()\n",
    "\n",
    "  # Extract the first markdown cell\n",
    "  match = re.search(\n",
    "      r'\\\"cell_type\\\":\\s*\\\"markdown\\\"[^\\]]*\\\"source\\\":\\s*\\[[^\\]]*\\\"(.*)\\\"', notebook_text)\n",
    "  if match:\n",
    "    markdown_cell = match.group(1)\n",
    "\n",
    "    # Extract the title from the markdown cell (assumes it is the first line)\n",
    "    title_match = re.match(r'# (.*)', markdown_cell)\n",
    "    if title_match:\n",
    "      title = title_match.group(1)\n",
    "    else:\n",
    "      title = 'No title found'\n",
    "\n",
    "    # Extract the description from the markdown cell (assumes it is everything after the first line)\n",
    "    description_match = re.match(r'# (.*)\\n(.*)', markdown_cell, re.DOTALL)\n",
    "    if description_match:\n",
    "      description = description_match.group(2)\n",
    "    else:\n",
    "      description = 'No description found'\n",
    "\n",
    "    # Add the title and description to the list\n",
    "    titles_and_descriptions.append((title, description))\n",
    "  else:\n",
    "    # If no markdown cell was found, add a placeholder\n",
    "    titles_and_descriptions.append(\n",
    "        ('No markdown cell found', 'No markdown cell found'))\n"
   ]
  },
  {
   "cell_type": "code",
   "execution_count": 5,
   "metadata": {},
   "outputs": [
    {
     "data": {
      "text/plain": [
       "[('No title found', 'No description found'),\n",
       " ('No title found', 'No description found'),\n",
       " ('No title found', 'No description found'),\n",
       " ('No title found', 'No description found')]"
      ]
     },
     "execution_count": 5,
     "metadata": {},
     "output_type": "execute_result"
    }
   ],
   "source": [
    "titles_and_descriptions"
   ]
  },
  {
   "cell_type": "code",
   "execution_count": 6,
   "metadata": {},
   "outputs": [],
   "source": [
    "# Sort the list of titles and descriptions by title\n",
    "titles_and_descriptions.sort(key=lambda x: x[0])\n"
   ]
  },
  {
   "cell_type": "code",
   "execution_count": 7,
   "metadata": {},
   "outputs": [
    {
     "name": "stdout",
     "output_type": "stream",
     "text": [
      "No title found\n",
      "No description found\n",
      "\n",
      "No title found\n",
      "No description found\n",
      "\n",
      "No title found\n",
      "No description found\n",
      "\n",
      "No title found\n",
      "No description found\n",
      "\n"
     ]
    }
   ],
   "source": [
    "# Print the titles and descriptions\n",
    "for title, description in titles_and_descriptions:\n",
    "  print(title)\n",
    "  print(description)\n",
    "  print()\n"
   ]
  },
  {
   "cell_type": "markdown",
   "metadata": {},
   "source": []
  },
  {
   "cell_type": "code",
   "execution_count": 2,
   "metadata": {},
   "outputs": [
    {
     "data": {
      "text/plain": [
       "['notebook_1.ipynb',\n",
       " 'notebook_2.ipynb',\n",
       " 'notebook_3.ipynb',\n",
       " 'notebook_4.ipynb']"
      ]
     },
     "execution_count": 2,
     "metadata": {},
     "output_type": "execute_result"
    }
   ],
   "source": [
    "notebook_names\n"
   ]
  },
  {
   "cell_type": "code",
   "execution_count": 1,
   "metadata": {},
   "outputs": [
    {
     "name": "stdout",
     "output_type": "stream",
     "text": [
      "Convert Excel table to Markdown syntax\n",
      "Because typing out the markdown code is tough, therefore, I use python to help me generate the markdown syntax.\n",
      "\n",
      "Make Your Pandas Code Lightning Fast\n",
      "Speed up slow pandas/python code by 2500x using this simple trick. Face it, your pandas code is slow. Learn how to speed it up! In this video Rob discusses a key trick to making your code faster! Pandas is an essential tool for any python programmer and data scientist. Using the pandas apply function, using vectorized functions, the speed difference can be significant. Write faster python code.\n",
      "\n",
      "Resume details generation tool\n",
      "This aims to output resume details from my source details in excel sheet.\n",
      "\n",
      "Time Series Forecasting with XGBoost - Use python and machine learning to predict energy consumption\n",
      "https://www.youtube.com/watch?v=vV12dGe_Fho\n",
      "\n"
     ]
    }
   ],
   "source": [
    "import os\n",
    "import re\n",
    "import nbformat\n",
    "\n",
    "# Change this to the directory containing your notebooks\n",
    "notebook_dir = 'notebook'\n",
    "\n",
    "# Collect the names of all notebooks in the directory\n",
    "notebook_names = [f for f in os.listdir(notebook_dir) if f.endswith('.ipynb')]\n",
    "\n",
    "# Initialize an empty list to store the titles and descriptions\n",
    "titles_and_descriptions = []\n",
    "\n",
    "# Iterate over the notebooks\n",
    "for notebook_name in notebook_names:\n",
    "  # Read the notebook file\n",
    "  with open(os.path.join(notebook_dir, notebook_name), 'r') as f:\n",
    "    notebook = nbformat.reads(f.read(), as_version=4)\n",
    "  \n",
    "  # Extract the first markdown cell\n",
    "  markdown_cells = [cell for cell in notebook['cells'] if cell['cell_type'] == 'markdown']\n",
    "  if markdown_cells:\n",
    "    markdown_cell = markdown_cells[0]\n",
    "    \n",
    "    # Extract the title from the markdown cell (assumes it is the first line)\n",
    "    title_match = re.match(r'# (.*)', markdown_cell['source'])\n",
    "    if title_match:\n",
    "      title = title_match.group(1)\n",
    "    else:\n",
    "      title = 'No title found'\n",
    "      \n",
    "    # Extract the description from the markdown cell (assumes it is everything after the first line)\n",
    "    description_match = re.match(r'# (.*)\\n(.*)', markdown_cell['source'], re.DOTALL)\n",
    "    if description_match:\n",
    "      description = description_match.group(2)\n",
    "    else:\n",
    "      description = 'No description found'\n",
    "      \n",
    "    # Add the title and description to the list\n",
    "    titles_and_descriptions.append((title, description))\n",
    "  else:\n",
    "    # If no markdown cell was found, add a placeholder\n",
    "    titles_and_descriptions.append(('No markdown cell found', 'No markdown cell found'))\n",
    "\n",
    "# Sort the list of titles and descriptions by title\n",
    "titles_and_descriptions.sort(key=lambda x: x[0])\n",
    "\n",
    "# Print the titles and descriptions\n",
    "for title, description in titles_and_descriptions:\n",
    "  print(title)\n",
    "  print(description)\n",
    "  print()"
   ]
  },
  {
   "cell_type": "markdown",
   "metadata": {},
   "source": []
  },
  {
   "cell_type": "code",
   "execution_count": 2,
   "metadata": {},
   "outputs": [
    {
     "name": "stdout",
     "output_type": "stream",
     "text": [
      "Resume details generation tool\n",
      "This aims to output resume details from my source details in excel sheet.\n",
      "\n",
      "Convert Excel table to Markdown syntax\n",
      "Because typing out the markdown code is tough, therefore, I use python to help me generate the markdown syntax.\n",
      "\n",
      "Time Series Forecasting with XGBoost - Use python and machine learning to predict energy consumption\n",
      "https://www.youtube.com/watch?v=vV12dGe_Fho\n",
      "\n",
      "Make Your Pandas Code Lightning Fast\n",
      "Speed up slow pandas/python code by 2500x using this simple trick. Face it, your pandas code is slow. Learn how to speed it up! In this video Rob discusses a key trick to making your code faster! Pandas is an essential tool for any python programmer and data scientist. Using the pandas apply function, using vectorized functions, the speed difference can be significant. Write faster python code.\n",
      "\n"
     ]
    }
   ],
   "source": [
    "import os\n",
    "import re\n",
    "import nbformat\n",
    "\n",
    "# Change this to the directory containing your notebooks\n",
    "notebook_dir = 'notebook'\n",
    "\n",
    "# Collect the names of all notebooks in the directory\n",
    "notebook_names = [f for f in os.listdir(notebook_dir) if f.endswith('.ipynb')]\n",
    "\n",
    "# Initialize an empty dictionary to store the titles and descriptions\n",
    "titles_and_descriptions = {}\n",
    "\n",
    "# Iterate over the notebooks\n",
    "for notebook_name in notebook_names:\n",
    "  # Read the notebook file\n",
    "  with open(os.path.join(notebook_dir, notebook_name), 'r') as f:\n",
    "    notebook = nbformat.reads(f.read(), as_version=4)\n",
    "  \n",
    "  # Extract the first markdown cell\n",
    "  markdown_cells = [cell for cell in notebook['cells'] if cell['cell_type'] == 'markdown']\n",
    "  if markdown_cells:\n",
    "    markdown_cell = markdown_cells[0]\n",
    "    \n",
    "    # Extract the title from the markdown cell (assumes it is the first line)\n",
    "    title_match = re.match(r'# (.*)', markdown_cell['source'])\n",
    "    if title_match:\n",
    "      title = title_match.group(1)\n",
    "    else:\n",
    "      title = 'No title found'\n",
    "      \n",
    "    # Extract the description from the markdown cell (assumes it is everything after the first line)\n",
    "    description_match = re.match(r'# (.*)\\n(.*)', markdown_cell['source'], re.DOTALL)\n",
    "    if description_match:\n",
    "      description = description_match.group(2)\n",
    "    else:\n",
    "      description = 'No description found'\n",
    "      \n",
    "    # Add the title and description to the dictionary using the notebook name as the key\n",
    "    titles_and_descriptions[notebook_name] = (title, description)\n",
    "  else:\n",
    "    # If no markdown cell was found, add a placeholder\n",
    "    titles_and_descriptions[notebook_name] = ('No markdown cell found', 'No markdown cell found')\n",
    "\n",
    "# Print the titles and descriptions in the order of the notebook names\n",
    "for notebook_name in notebook_names:\n",
    "  title, description = titles_and_descriptions[notebook_name]\n",
    "  print(title)\n",
    "  print(description)\n",
    "  print()"
   ]
  },
  {
   "cell_type": "code",
   "execution_count": null,
   "metadata": {},
   "outputs": [],
   "source": []
  },
  {
   "cell_type": "code",
   "execution_count": null,
   "metadata": {},
   "outputs": [],
   "source": []
  },
  {
   "cell_type": "code",
   "execution_count": null,
   "metadata": {},
   "outputs": [],
   "source": []
  },
  {
   "cell_type": "code",
   "execution_count": null,
   "metadata": {},
   "outputs": [],
   "source": []
  }
 ],
 "metadata": {
  "kernelspec": {
   "display_name": "Data_Science_2",
   "language": "python",
   "name": "python3"
  },
  "language_info": {
   "codemirror_mode": {
    "name": "ipython",
    "version": 3
   },
   "file_extension": ".py",
   "mimetype": "text/x-python",
   "name": "python",
   "nbconvert_exporter": "python",
   "pygments_lexer": "ipython3",
   "version": "3.9.11 (main, Mar 30 2022, 02:45:55) [MSC v.1916 64 bit (AMD64)]"
  },
  "orig_nbformat": 4,
  "vscode": {
   "interpreter": {
    "hash": "a831cfbb3de98ce6ab9c871b23d1d16988161c9f19d83b0ffff4cf37458b0f2b"
   }
  }
 },
 "nbformat": 4,
 "nbformat_minor": 2
}
