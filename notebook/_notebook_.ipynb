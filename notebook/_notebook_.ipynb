{
 "cells": [
  {
   "attachments": {},
   "cell_type": "markdown",
   "metadata": {},
   "source": [
    "# Implement Gradient Descent algorithm\n",
    "\n",
    "This is just an attempt to implement gradient descent algorithm, with the help of chatGPT."
   ]
  },
  {
   "cell_type": "code",
   "execution_count": 1,
   "metadata": {},
   "outputs": [],
   "source": [
    "import numpy as np"
   ]
  },
  {
   "attachments": {},
   "cell_type": "markdown",
   "metadata": {},
   "source": [
    "Sure, here is a Python implementation of the gradient descent algorithm for optimizing a function:"
   ]
  },
  {
   "cell_type": "code",
   "execution_count": 2,
   "metadata": {},
   "outputs": [],
   "source": [
    "def gradient_descent(cost_function, gradient_function, initial_theta, learning_rate, num_iterations):\n",
    "    \"\"\"\n",
    "    Performs gradient descent optimization on a cost function.\n",
    "\n",
    "    Parameters:\n",
    "        cost_function (function): The cost function to minimize.\n",
    "        gradient_function (function): The gradient function of the cost function.\n",
    "        initial_theta (numpy array): The initial guess for the value of the optimization variable.\n",
    "        learning_rate (float): The learning rate to use for gradient descent.\n",
    "        num_iterations (int): The number of iterations to perform.\n",
    "\n",
    "    Returns:\n",
    "        theta (numpy array): The optimized value of the optimization variable.\n",
    "        cost_history (list): A list of the cost function value at each iteration.\n",
    "    \"\"\"\n",
    "\n",
    "    theta = initial_theta\n",
    "    cost_history = []\n",
    "\n",
    "    for i in range(num_iterations):\n",
    "        # Calculate the gradient\n",
    "        gradient = gradient_function(theta)\n",
    "\n",
    "        # Update the parameters\n",
    "        theta = theta - learning_rate * gradient\n",
    "\n",
    "        # Calculate the cost function value\n",
    "        cost = cost_function(theta)\n",
    "\n",
    "        # Store the cost function value in the history list\n",
    "        cost_history.append(cost)\n",
    "\n",
    "    return theta, cost_history\n"
   ]
  },
  {
   "attachments": {},
   "cell_type": "markdown",
   "metadata": {},
   "source": [
    "This implementation takes in a \n",
    "- cost function, \n",
    "- a gradient function, \n",
    "- an initial guess for the optimization variable, \n",
    "- a learning rate, and \n",
    "- the number of iterations to perform. \n",
    "\n",
    "It returns \n",
    "- the optimized value of the optimization variable and \n",
    "- a list of the cost function value at each iteration.\n",
    "\n",
    "To use this implementation, you would need to define your own cost function and gradient function for your specific problem."
   ]
  },
  {
   "cell_type": "code",
   "execution_count": 3,
   "metadata": {},
   "outputs": [],
   "source": [
    "def cost_function(theta):\n",
    "    \"\"\"\n",
    "    Computes the cost function for a linear regression problem.\n",
    "\n",
    "    Parameters:\n",
    "        theta (numpy array): A vector of the regression coefficients.\n",
    "\n",
    "    Returns:\n",
    "        float: The value of the cost function.\n",
    "    \"\"\"\n",
    "\n",
    "    # Generate some example data\n",
    "    x = np.array([1, 2, 3, 4, 5])\n",
    "    y = np.array([2, 4, 5, 4, 5])\n",
    "\n",
    "    # Calculate the predicted values\n",
    "    y_pred = theta[0] + theta[1]*x\n",
    "\n",
    "    # Calculate the cost function value\n",
    "    cost = np.mean((y_pred - y)**2)\n",
    "\n",
    "    return cost"
   ]
  },
  {
   "cell_type": "code",
   "execution_count": 4,
   "metadata": {},
   "outputs": [],
   "source": [
    "def gradient_function(theta):\n",
    "    \"\"\"\n",
    "    Computes the gradient of the cost function for a linear regression problem.\n",
    "\n",
    "    Parameters:\n",
    "        theta (numpy array): A vector of the regression coefficients.\n",
    "\n",
    "    Returns:\n",
    "        numpy array: The gradient of the cost function.\n",
    "    \"\"\"\n",
    "\n",
    "    # Generate some example data\n",
    "    x = np.array([1, 2, 3, 4, 5])\n",
    "    y = np.array([2, 4, 5, 4, 5])\n",
    "\n",
    "    # Calculate the predicted values\n",
    "    y_pred = theta[0] + theta[1]*x\n",
    "\n",
    "    # Calculate the gradient of the cost function\n",
    "    gradient = np.array([\n",
    "        np.mean(y_pred - y),\n",
    "        np.mean((y_pred - y)*x)\n",
    "    ])\n",
    "\n",
    "    return gradient\n"
   ]
  },
  {
   "cell_type": "code",
   "execution_count": null,
   "metadata": {},
   "outputs": [],
   "source": []
  },
  {
   "cell_type": "code",
   "execution_count": null,
   "metadata": {},
   "outputs": [],
   "source": []
  },
  {
   "cell_type": "code",
   "execution_count": null,
   "metadata": {},
   "outputs": [],
   "source": []
  },
  {
   "cell_type": "code",
   "execution_count": null,
   "metadata": {},
   "outputs": [],
   "source": []
  },
  {
   "cell_type": "code",
   "execution_count": null,
   "metadata": {},
   "outputs": [],
   "source": []
  },
  {
   "cell_type": "code",
   "execution_count": null,
   "metadata": {},
   "outputs": [],
   "source": []
  }
 ],
 "metadata": {
  "kernelspec": {
   "display_name": "Data_Science_2",
   "language": "python",
   "name": "python3"
  },
  "language_info": {
   "codemirror_mode": {
    "name": "ipython",
    "version": 3
   },
   "file_extension": ".py",
   "mimetype": "text/x-python",
   "name": "python",
   "nbconvert_exporter": "python",
   "pygments_lexer": "ipython3",
   "version": "3.9.11"
  },
  "orig_nbformat": 4
 },
 "nbformat": 4,
 "nbformat_minor": 2
}
