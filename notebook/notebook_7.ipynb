{
 "cells": [
  {
   "attachments": {},
   "cell_type": "markdown",
   "metadata": {},
   "source": [
    "# This INCREDIBLE trick will speed up your data processes.\n",
    "\n",
    "https://www.youtube.com/watch?v=u4rsA5ZiTls <br> CSV/Pickle/Feather/Parquet/Other Options/Benchmarking "
   ]
  },
  {
   "cell_type": "code",
   "execution_count": 1,
   "metadata": {},
   "outputs": [],
   "source": [
    "import pandas as pd\n",
    "import numpy as np"
   ]
  },
  {
   "attachments": {},
   "cell_type": "markdown",
   "metadata": {},
   "source": [
    "## Create our dataset"
   ]
  },
  {
   "cell_type": "code",
   "execution_count": 2,
   "metadata": {},
   "outputs": [],
   "source": [
    "def get_dataset(size):\n",
    "    # Create Fake Dataset\n",
    "    df = pd.DataFrame()\n",
    "    df['size'] = np.random.choice(['big', 'medium', 'small'], size)\n",
    "    df['age'] = np.random.randint(1, 50, size)\n",
    "    df['team'] = np.random.choice(['red', 'blue', 'yellow', 'green'], size)\n",
    "    df['win'] = np.random.choice(['yes', 'no'], size)\n",
    "    dates = pd.date_range('2020-01-01', '2022-12-31')\n",
    "    df['date'] = np.random.choice(dates, size)\n",
    "    df['prob'] = np.random.uniform(0, 1, size)\n",
    "    return df\n"
   ]
  },
  {
   "cell_type": "code",
   "execution_count": 3,
   "metadata": {},
   "outputs": [],
   "source": [
    "def set_dtypes(df):\n",
    "    \"\"\"\n",
    "    Setting and casting the different columns to specific\n",
    "    d-types.\n",
    "    (Helps make our data frame memory efficient)\n",
    "\n",
    "    \"\"\"\n",
    "    df['size'] = df['size'].astype('category')\n",
    "    df['team'] = df['team'].astype('category')\n",
    "    df['age'] = df['age'].astype('int16')\n",
    "    df['win'] = df['win'].map({'yes': True, 'no': False})\n",
    "    df['prob'] = df['prob'].astype('float32')\n",
    "    return df\n"
   ]
  },
  {
   "cell_type": "code",
   "execution_count": 5,
   "metadata": {},
   "outputs": [
    {
     "name": "stdout",
     "output_type": "stream",
     "text": [
      "<class 'pandas.core.frame.DataFrame'>\n",
      "RangeIndex: 1000000 entries, 0 to 999999\n",
      "Data columns (total 6 columns):\n",
      " #   Column  Non-Null Count    Dtype         \n",
      "---  ------  --------------    -----         \n",
      " 0   size    1000000 non-null  object        \n",
      " 1   age     1000000 non-null  int32         \n",
      " 2   team    1000000 non-null  object        \n",
      " 3   win     1000000 non-null  object        \n",
      " 4   date    1000000 non-null  datetime64[ns]\n",
      " 5   prob    1000000 non-null  float64       \n",
      "dtypes: datetime64[ns](1), float64(1), int32(1), object(3)\n",
      "memory usage: 42.0+ MB\n"
     ]
    }
   ],
   "source": [
    "df = get_dataset(1_000_000)\n",
    "df.info()"
   ]
  },
  {
   "attachments": {},
   "cell_type": "markdown",
   "metadata": {},
   "source": [
    "## CSV"
   ]
  },
  {
   "cell_type": "code",
   "execution_count": 7,
   "metadata": {},
   "outputs": [
    {
     "name": "stdout",
     "output_type": "stream",
     "text": [
      "CPU times: total: 5.12 s\n",
      "Wall time: 5.22 s\n"
     ]
    }
   ],
   "source": [
    "%%time\n",
    "df = get_dataset(1_000_000)\n",
    "df.to_csv(\"../output/nb_7_test_csv.csv\", index=False)"
   ]
  },
  {
   "cell_type": "code",
   "execution_count": 8,
   "metadata": {},
   "outputs": [
    {
     "name": "stdout",
     "output_type": "stream",
     "text": [
      "CPU times: total: 500 ms\n",
      "Wall time: 487 ms\n"
     ]
    }
   ],
   "source": [
    "%%time\n",
    "df = pd.read_csv(\"../output/nb_7_test_csv.csv\")"
   ]
  },
  {
   "attachments": {},
   "cell_type": "markdown",
   "metadata": {},
   "source": [
    "We are concerned with...\n",
    "- who's going to be reading this file?\n",
    "- csv if it's for someone who needs to open in excel.\n",
    "- csv are not most ideal for efficiency and reduced disk space.\n"
   ]
  },
  {
   "cell_type": "code",
   "execution_count": 12,
   "metadata": {},
   "outputs": [
    {
     "name": "stdout",
     "output_type": "stream",
     "text": [
      "<class 'pandas.core.frame.DataFrame'>\n",
      "RangeIndex: 1000000 entries, 0 to 999999\n",
      "Data columns (total 6 columns):\n",
      " #   Column  Non-Null Count    Dtype         \n",
      "---  ------  --------------    -----         \n",
      " 0   size    1000000 non-null  category      \n",
      " 1   age     1000000 non-null  int16         \n",
      " 2   team    1000000 non-null  category      \n",
      " 3   win     1000000 non-null  bool          \n",
      " 4   date    1000000 non-null  datetime64[ns]\n",
      " 5   prob    1000000 non-null  float32       \n",
      "dtypes: bool(1), category(2), datetime64[ns](1), float32(1), int16(1)\n",
      "memory usage: 16.2 MB\n",
      "CPU times: total: 547 ms\n",
      "Wall time: 542 ms\n"
     ]
    }
   ],
   "source": [
    "%%time\n",
    "df = get_dataset(1_000_000)\n",
    "df = set_dtypes(df)\n",
    "df.info()"
   ]
  },
  {
   "cell_type": "code",
   "execution_count": 13,
   "metadata": {},
   "outputs": [],
   "source": [
    "df.to_csv(\"../output/nb_7_test_csv_2.csv\", index=False)\n",
    "df = pd.read_csv(\"../output/nb_7_test_csv_2.csv\")"
   ]
  },
  {
   "cell_type": "code",
   "execution_count": 14,
   "metadata": {},
   "outputs": [
    {
     "name": "stdout",
     "output_type": "stream",
     "text": [
      "<class 'pandas.core.frame.DataFrame'>\n",
      "RangeIndex: 1000000 entries, 0 to 999999\n",
      "Data columns (total 6 columns):\n",
      " #   Column  Non-Null Count    Dtype  \n",
      "---  ------  --------------    -----  \n",
      " 0   size    1000000 non-null  object \n",
      " 1   age     1000000 non-null  int64  \n",
      " 2   team    1000000 non-null  object \n",
      " 3   win     1000000 non-null  bool   \n",
      " 4   date    1000000 non-null  object \n",
      " 5   prob    1000000 non-null  float64\n",
      "dtypes: bool(1), float64(1), int64(1), object(3)\n",
      "memory usage: 39.1+ MB\n"
     ]
    }
   ],
   "source": [
    "df.info()"
   ]
  },
  {
   "cell_type": "code",
   "execution_count": 19,
   "metadata": {},
   "outputs": [
    {
     "name": "stdout",
     "output_type": "stream",
     "text": [
      "<class 'pandas.core.frame.DataFrame'>\n",
      "RangeIndex: 1000000 entries, 0 to 999999\n",
      "Data columns (total 6 columns):\n",
      " #   Column  Non-Null Count    Dtype   \n",
      "---  ------  --------------    -----   \n",
      " 0   size    1000000 non-null  category\n",
      " 1   age     1000000 non-null  int16   \n",
      " 2   team    1000000 non-null  category\n",
      " 3   win     1000000 non-null  bool    \n",
      " 4   date    1000000 non-null  object  \n",
      " 5   prob    1000000 non-null  float64 \n",
      "dtypes: bool(1), category(2), float64(1), int16(1), object(1)\n",
      "memory usage: 20.0+ MB\n"
     ]
    }
   ],
   "source": [
    "df = pd.read_csv(\"../output/nb_7_test_csv_2.csv\", \n",
    "                dtype={\n",
    "                    'size':'category',\n",
    "                    'age':'int16',\n",
    "                    'team':'category',})\n",
    "df.info()"
   ]
  },
  {
   "attachments": {},
   "cell_type": "markdown",
   "metadata": {},
   "source": [
    "## Pickle"
   ]
  },
  {
   "cell_type": "code",
   "execution_count": 38,
   "metadata": {},
   "outputs": [
    {
     "name": "stdout",
     "output_type": "stream",
     "text": [
      "CPU times: total: 15.6 ms\n",
      "Wall time: 10.5 ms\n",
      "CPU times: total: 0 ns\n",
      "Wall time: 12.1 ms\n"
     ]
    }
   ],
   "source": [
    "df = get_dataset(1_000_000)\n",
    "df = set_dtypes(df)\n",
    "%time df.to_pickle('../output/nb_7_test.pickle')\n",
    "%time df_pickle = pd.read_pickle('../output/nb_7_test.pickle')"
   ]
  },
  {
   "cell_type": "code",
   "execution_count": 39,
   "metadata": {},
   "outputs": [
    {
     "name": "stdout",
     "output_type": "stream",
     "text": [
      "<class 'pandas.core.frame.DataFrame'>\n",
      "RangeIndex: 1000000 entries, 0 to 999999\n",
      "Data columns (total 6 columns):\n",
      " #   Column  Non-Null Count    Dtype         \n",
      "---  ------  --------------    -----         \n",
      " 0   size    1000000 non-null  category      \n",
      " 1   age     1000000 non-null  int16         \n",
      " 2   team    1000000 non-null  category      \n",
      " 3   win     1000000 non-null  bool          \n",
      " 4   date    1000000 non-null  datetime64[ns]\n",
      " 5   prob    1000000 non-null  float32       \n",
      "dtypes: bool(1), category(2), datetime64[ns](1), float32(1), int16(1)\n",
      "memory usage: 16.2 MB\n"
     ]
    }
   ],
   "source": [
    "df_pickle.info()"
   ]
  },
  {
   "attachments": {},
   "cell_type": "markdown",
   "metadata": {},
   "source": [
    "# Parquet\n",
    "```\n",
    "    !pip install pyarrow\n",
    "    !pip install fastparquet\n",
    "```"
   ]
  },
  {
   "cell_type": "code",
   "execution_count": 40,
   "metadata": {},
   "outputs": [
    {
     "name": "stdout",
     "output_type": "stream",
     "text": [
      "CPU times: total: 93.8 ms\n",
      "Wall time: 101 ms\n",
      "CPU times: total: 46.9 ms\n",
      "Wall time: 30.3 ms\n"
     ]
    }
   ],
   "source": [
    "df = get_dataset(1_000_000)\n",
    "df = set_dtypes(df)\n",
    "%time df.to_parquet(\"../output/nb_7_test.parquet\")\n",
    "%time df_parquet = pd.read_parquet(\"../output/nb_7_test.parquet\")"
   ]
  },
  {
   "cell_type": "code",
   "execution_count": 41,
   "metadata": {},
   "outputs": [
    {
     "name": "stdout",
     "output_type": "stream",
     "text": [
      "<class 'pandas.core.frame.DataFrame'>\n",
      "RangeIndex: 1000000 entries, 0 to 999999\n",
      "Data columns (total 6 columns):\n",
      " #   Column  Non-Null Count    Dtype         \n",
      "---  ------  --------------    -----         \n",
      " 0   size    1000000 non-null  category      \n",
      " 1   age     1000000 non-null  int16         \n",
      " 2   team    1000000 non-null  category      \n",
      " 3   win     1000000 non-null  bool          \n",
      " 4   date    1000000 non-null  datetime64[ns]\n",
      " 5   prob    1000000 non-null  float32       \n",
      "dtypes: bool(1), category(2), datetime64[ns](1), float32(1), int16(1)\n",
      "memory usage: 16.2 MB\n"
     ]
    }
   ],
   "source": [
    "df_parquet.info()"
   ]
  },
  {
   "attachments": {},
   "cell_type": "markdown",
   "metadata": {},
   "source": [
    "## Feather"
   ]
  },
  {
   "cell_type": "code",
   "execution_count": 37,
   "metadata": {},
   "outputs": [
    {
     "name": "stdout",
     "output_type": "stream",
     "text": [
      "CPU times: total: 78.1 ms\n",
      "Wall time: 26.6 ms\n",
      "CPU times: total: 31.2 ms\n",
      "Wall time: 23.7 ms\n"
     ]
    }
   ],
   "source": [
    "df = get_dataset(1_000_000)\n",
    "df = set_dtypes(df)\n",
    "%time df.to_feather(\"../output/nb_7_test.feather\")\n",
    "%time df_feather = pd.read_feather(\"../output/nb_7_test.feather\")"
   ]
  },
  {
   "cell_type": "code",
   "execution_count": 42,
   "metadata": {},
   "outputs": [
    {
     "name": "stdout",
     "output_type": "stream",
     "text": [
      "<class 'pandas.core.frame.DataFrame'>\n",
      "RangeIndex: 1000000 entries, 0 to 999999\n",
      "Data columns (total 6 columns):\n",
      " #   Column  Non-Null Count    Dtype         \n",
      "---  ------  --------------    -----         \n",
      " 0   size    1000000 non-null  category      \n",
      " 1   age     1000000 non-null  int16         \n",
      " 2   team    1000000 non-null  category      \n",
      " 3   win     1000000 non-null  bool          \n",
      " 4   date    1000000 non-null  datetime64[ns]\n",
      " 5   prob    1000000 non-null  float32       \n",
      "dtypes: bool(1), category(2), datetime64[ns](1), float32(1), int16(1)\n",
      "memory usage: 16.2 MB\n"
     ]
    }
   ],
   "source": [
    "df_feather.info()"
   ]
  },
  {
   "attachments": {},
   "cell_type": "markdown",
   "metadata": {},
   "source": [
    "## CSV vs Pickle vs Parquet vs Feather"
   ]
  },
  {
   "cell_type": "code",
   "execution_count": 50,
   "metadata": {},
   "outputs": [
    {
     "name": "stdout",
     "output_type": "stream",
     "text": [
      "Reading and writing CSV\n",
      "CPU times: total: 23.6 s\n",
      "Wall time: 23.8 s\n",
      "CPU times: total: 1.8 s\n",
      "Wall time: 1.8 s\n"
     ]
    }
   ],
   "source": [
    "print(\"Reading and writing CSV\")\n",
    "df = get_dataset(5_000_000)\n",
    "df = set_dtypes(df)\n",
    "%time df.to_csv(\"../output/nb_7_test_csv_2.csv\", index=False)\n",
    "%time df = pd.read_csv(\"../output/nb_7_test_csv_2.csv\")"
   ]
  },
  {
   "cell_type": "code",
   "execution_count": 51,
   "metadata": {},
   "outputs": [
    {
     "name": "stdout",
     "output_type": "stream",
     "text": [
      "Reading and writing Pickle\n",
      "CPU times: total: 31.2 ms\n",
      "Wall time: 48.2 ms\n",
      "CPU times: total: 31.2 ms\n",
      "Wall time: 43 ms\n"
     ]
    }
   ],
   "source": [
    "print(\"Reading and writing Pickle\")\n",
    "df = get_dataset(5_000_000)\n",
    "df = set_dtypes(df)\n",
    "%time df.to_pickle('../output/nb_7_test.pickle')\n",
    "%time df_pickle = pd.read_pickle('../output/nb_7_test.pickle')"
   ]
  },
  {
   "cell_type": "code",
   "execution_count": 52,
   "metadata": {},
   "outputs": [
    {
     "name": "stdout",
     "output_type": "stream",
     "text": [
      "Reading and writing Parquet\n",
      "CPU times: total: 500 ms\n",
      "Wall time: 426 ms\n",
      "CPU times: total: 359 ms\n",
      "Wall time: 132 ms\n"
     ]
    }
   ],
   "source": [
    "print(\"Reading and writing Parquet\")\n",
    "df = get_dataset(5_000_000)\n",
    "df = set_dtypes(df)\n",
    "%time df.to_parquet(\"../output/nb_7_test.parquet\")\n",
    "%time df_parquet = pd.read_parquet(\"../output/nb_7_test.parquet\")"
   ]
  },
  {
   "cell_type": "code",
   "execution_count": 53,
   "metadata": {},
   "outputs": [
    {
     "name": "stdout",
     "output_type": "stream",
     "text": [
      "Reading and writing Feather\n",
      "CPU times: total: 203 ms\n",
      "Wall time: 119 ms\n",
      "CPU times: total: 93.8 ms\n",
      "Wall time: 72.4 ms\n"
     ]
    }
   ],
   "source": [
    "print(\"Reading and writing Feather\")\n",
    "df = get_dataset(5_000_000)\n",
    "df = set_dtypes(df)\n",
    "%time df.to_feather(\"../output/nb_7_test.feather\")\n",
    "%time df_feather = pd.read_feather(\"../output/nb_7_test.feather\")\n"
   ]
  },
  {
   "attachments": {
    "image.png": {
     "image/png": "[encoded data removed]"
    }
   },
   "cell_type": "markdown",
   "metadata": {},
   "source": [
    "![image.png](attachment:image.png)"
   ]
  },
  {
   "attachments": {},
   "cell_type": "markdown",
   "metadata": {},
   "source": [
    "parquet took least space"
   ]
  },
  {
   "cell_type": "markdown",
   "metadata": {},
   "source": []
  }
 ],
 "metadata": {
  "kernelspec": {
   "display_name": "Data_Science_2",
   "language": "python",
   "name": "python3"
  },
  "language_info": {
   "codemirror_mode": {
    "name": "ipython",
    "version": 3
   },
   "file_extension": ".py",
   "mimetype": "text/x-python",
   "name": "python",
   "nbconvert_exporter": "python",
   "pygments_lexer": "ipython3",
   "version": "3.9.11 (main, Mar 30 2022, 02:45:55) [MSC v.1916 64 bit (AMD64)]"
  },
  "orig_nbformat": 4,
  "vscode": {
   "interpreter": {
    "hash": "a831cfbb3de98ce6ab9c871b23d1d16988161c9f19d83b0ffff4cf37458b0f2b"
   }
  }
 },
 "nbformat": 4,
 "nbformat_minor": 2
}
