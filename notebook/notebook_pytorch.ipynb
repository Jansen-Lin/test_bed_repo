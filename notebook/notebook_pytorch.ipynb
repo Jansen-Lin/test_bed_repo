{
 "cells": [
  {
   "attachments": {},
   "cell_type": "markdown",
   "metadata": {},
   "source": [
    "# [Implementing original U-Net from scratch using PyTorch](https://www.youtube.com/watch?v=u1loyDCoGbE) <br>\n",
    "\n",
    "Abhishek Thakur"
   ]
  },
  {
   "cell_type": "code",
   "execution_count": 1,
   "metadata": {},
   "outputs": [
    {
     "data": {
      "text/plain": [
       "'c:\\\\Users\\\\Jansen-Lin\\\\github-local-repo\\\\test_bed_repo\\\\notebook'"
      ]
     },
     "execution_count": 1,
     "metadata": {},
     "output_type": "execute_result"
    }
   ],
   "source": [
    "import os\n",
    "os.getcwd()\n",
    "# os.chdir(\"C:\\\\Users\\\\Jansen-Lin\\\\github-local-repo\\\\test_bed_repo\\\\src\")"
   ]
  },
  {
   "cell_type": "code",
   "execution_count": 2,
   "metadata": {},
   "outputs": [],
   "source": [
    "import sys\n",
    "sys.path.append(\"C:\\\\Users\\\\Jansen-Lin\\\\github-local-repo\\\\test_bed_repo\\\\src\")"
   ]
  },
  {
   "cell_type": "code",
   "execution_count": 3,
   "metadata": {},
   "outputs": [],
   "source": [
    "import torch\n",
    "import torch.nn as nn\n",
    "from unet_mod import UNet\n",
    "\n",
    "import torch.optim as optim\n",
    "from torch.utils.data import DataLoader\n",
    "from torch.utils.data import Dataset\n",
    "import cv2\n",
    "\n",
    "from torchsummary import summary"
   ]
  },
  {
   "cell_type": "code",
   "execution_count": 4,
   "metadata": {},
   "outputs": [
    {
     "name": "stdout",
     "output_type": "stream",
     "text": [
      "cuda\n"
     ]
    }
   ],
   "source": [
    "device = torch.device(\"cuda\" if torch.cuda.is_available() else \"cpu\")\n",
    "print(device)"
   ]
  },
  {
   "cell_type": "code",
   "execution_count": 5,
   "metadata": {},
   "outputs": [
    {
     "name": "stdout",
     "output_type": "stream",
     "text": [
      "image.size: torch.Size([1, 1, 572, 572])\n",
      "torch.Size([1, 1, 572, 572])\n",
      "torch.Size([1, 64, 568, 568])\n",
      "torch.Size([1, 4, 388, 388])\n",
      "None\n"
     ]
    }
   ],
   "source": [
    "model = UNet(in_channels=1,num_class=3).to(device)\n",
    "image = torch.rand((1, 1, 572, 572)).to(device)\n",
    "print(\"image.size:\", image.size())\n",
    "print(model(image))"
   ]
  },
  {
   "cell_type": "code",
   "execution_count": 6,
   "metadata": {},
   "outputs": [
    {
     "name": "stdout",
     "output_type": "stream",
     "text": [
      "torch.Size([2, 1, 572, 572])\n",
      "torch.Size([2, 64, 568, 568])\n",
      "torch.Size([2, 4, 388, 388])\n",
      "----------------------------------------------------------------\n",
      "        Layer (type)               Output Shape         Param #\n",
      "================================================================\n",
      "            Conv2d-1         [-1, 64, 570, 570]             640\n",
      "              ReLU-2         [-1, 64, 570, 570]               0\n",
      "            Conv2d-3         [-1, 64, 568, 568]          36,928\n",
      "              ReLU-4         [-1, 64, 568, 568]               0\n",
      "         MaxPool2d-5         [-1, 64, 284, 284]               0\n",
      "            Conv2d-6        [-1, 128, 282, 282]          73,856\n",
      "              ReLU-7        [-1, 128, 282, 282]               0\n",
      "            Conv2d-8        [-1, 128, 280, 280]         147,584\n",
      "              ReLU-9        [-1, 128, 280, 280]               0\n",
      "        MaxPool2d-10        [-1, 128, 140, 140]               0\n",
      "           Conv2d-11        [-1, 256, 138, 138]         295,168\n",
      "             ReLU-12        [-1, 256, 138, 138]               0\n",
      "           Conv2d-13        [-1, 256, 136, 136]         590,080\n",
      "             ReLU-14        [-1, 256, 136, 136]               0\n",
      "        MaxPool2d-15          [-1, 256, 68, 68]               0\n",
      "           Conv2d-16          [-1, 512, 66, 66]       1,180,160\n",
      "             ReLU-17          [-1, 512, 66, 66]               0\n",
      "           Conv2d-18          [-1, 512, 64, 64]       2,359,808\n",
      "             ReLU-19          [-1, 512, 64, 64]               0\n",
      "        MaxPool2d-20          [-1, 512, 32, 32]               0\n",
      "           Conv2d-21         [-1, 1024, 30, 30]       4,719,616\n",
      "             ReLU-22         [-1, 1024, 30, 30]               0\n",
      "           Conv2d-23         [-1, 1024, 28, 28]       9,438,208\n",
      "             ReLU-24         [-1, 1024, 28, 28]               0\n",
      "  ConvTranspose2d-25          [-1, 512, 56, 56]       2,097,664\n",
      "           Conv2d-26          [-1, 512, 54, 54]       4,719,104\n",
      "             ReLU-27          [-1, 512, 54, 54]               0\n",
      "           Conv2d-28          [-1, 512, 52, 52]       2,359,808\n",
      "             ReLU-29          [-1, 512, 52, 52]               0\n",
      "  ConvTranspose2d-30        [-1, 256, 104, 104]         524,544\n",
      "           Conv2d-31        [-1, 256, 102, 102]       1,179,904\n",
      "             ReLU-32        [-1, 256, 102, 102]               0\n",
      "           Conv2d-33        [-1, 256, 100, 100]         590,080\n",
      "             ReLU-34        [-1, 256, 100, 100]               0\n",
      "  ConvTranspose2d-35        [-1, 128, 200, 200]         131,200\n",
      "           Conv2d-36        [-1, 128, 198, 198]         295,040\n",
      "             ReLU-37        [-1, 128, 198, 198]               0\n",
      "           Conv2d-38        [-1, 128, 196, 196]         147,584\n",
      "             ReLU-39        [-1, 128, 196, 196]               0\n",
      "  ConvTranspose2d-40         [-1, 64, 392, 392]          32,832\n",
      "           Conv2d-41         [-1, 64, 390, 390]          73,792\n",
      "             ReLU-42         [-1, 64, 390, 390]               0\n",
      "           Conv2d-43         [-1, 64, 388, 388]          36,928\n",
      "             ReLU-44         [-1, 64, 388, 388]               0\n",
      "           Conv2d-45          [-1, 4, 388, 388]             260\n",
      "================================================================\n",
      "Total params: 31,030,788\n",
      "Trainable params: 31,030,788\n",
      "Non-trainable params: 0\n",
      "----------------------------------------------------------------\n",
      "Input size (MB): 1.25\n",
      "Forward/backward pass size (MB): 1974.16\n",
      "Params size (MB): 118.37\n",
      "Estimated Total Size (MB): 2093.78\n",
      "----------------------------------------------------------------\n"
     ]
    }
   ],
   "source": [
    "summary(model,(1, 572, 572))"
   ]
  },
  {
   "attachments": {},
   "cell_type": "markdown",
   "metadata": {},
   "source": []
  },
  {
   "cell_type": "code",
   "execution_count": null,
   "metadata": {},
   "outputs": [],
   "source": [
    "params = model.parameters()"
   ]
  },
  {
   "cell_type": "code",
   "execution_count": null,
   "metadata": {},
   "outputs": [],
   "source": [
    "for param in params:\n",
    "    print(param)"
   ]
  },
  {
   "cell_type": "code",
   "execution_count": null,
   "metadata": {},
   "outputs": [],
   "source": [
    "\n",
    "\n",
    "# Define your dataset class and data loading\n",
    "# Assume you have a custom dataset class named MyDataset, with appropriate transformations and labels\n",
    "\n",
    "\n",
    "# Define the loss function and optimizer\n",
    "criterion = nn.CrossEntropyLoss()\n",
    "optimizer = optim.Adam(model.parameters(), lr=0.001)\n",
    "\n",
    "# Set up data loaders\n",
    "train_dataset = MyDataset(train=True)\n",
    "val_dataset = MyDataset(train=False)\n",
    "\n",
    "train_loader = DataLoader(train_dataset, batch_size=8, shuffle=True)\n",
    "val_loader = DataLoader(val_dataset, batch_size=8, shuffle=False)\n",
    "\n",
    "# Define the training loop\n",
    "\n",
    "num_epochs = 10\n",
    "for epoch in range(num_epochs):\n",
    "    # Training\n",
    "    model.train()\n",
    "    train_loss = 0.0\n",
    "    for images, labels in train_loader:\n",
    "        images = images.to(device)\n",
    "        labels = labels.to(device)\n",
    "\n",
    "        optimizer.zero_grad()\n",
    "\n",
    "        outputs = model(images)\n",
    "        loss = criterion(outputs, labels)\n",
    "        loss.backward()\n",
    "        optimizer.step()\n",
    "\n",
    "        train_loss += loss.item()\n",
    "\n",
    "    # Validation\n",
    "    model.eval()\n",
    "    val_loss = 0.0\n",
    "    with torch.no_grad():\n",
    "        for images, labels in val_loader:\n",
    "            images = images.to(device)\n",
    "            labels = labels.to(device)\n",
    "\n",
    "            outputs = model(images)\n",
    "            loss = criterion(outputs, labels)\n",
    "\n",
    "            val_loss += loss.item()\n",
    "\n",
    "    # Print the epoch-wise loss\n",
    "    print(f\"Epoch {epoch+1}/{num_epochs} - Training Loss: {train_loss/len(train_loader):.4f} - Validation Loss: {val_loss/len(val_loader):.4f}\")\n",
    "\n",
    "# Once training is complete, you can save the trained model\n",
    "torch.save(model.state_dict(), 'unet_model.pth')\n"
   ]
  },
  {
   "cell_type": "code",
   "execution_count": null,
   "metadata": {},
   "outputs": [],
   "source": []
  },
  {
   "cell_type": "code",
   "execution_count": null,
   "metadata": {},
   "outputs": [],
   "source": []
  },
  {
   "cell_type": "code",
   "execution_count": null,
   "metadata": {},
   "outputs": [],
   "source": []
  },
  {
   "cell_type": "code",
   "execution_count": null,
   "metadata": {},
   "outputs": [],
   "source": []
  },
  {
   "cell_type": "code",
   "execution_count": null,
   "metadata": {},
   "outputs": [],
   "source": []
  },
  {
   "cell_type": "code",
   "execution_count": null,
   "metadata": {},
   "outputs": [],
   "source": []
  },
  {
   "cell_type": "code",
   "execution_count": null,
   "metadata": {},
   "outputs": [],
   "source": []
  },
  {
   "cell_type": "code",
   "execution_count": null,
   "metadata": {},
   "outputs": [],
   "source": []
  },
  {
   "cell_type": "code",
   "execution_count": null,
   "metadata": {},
   "outputs": [],
   "source": []
  },
  {
   "cell_type": "code",
   "execution_count": null,
   "metadata": {},
   "outputs": [],
   "source": []
  },
  {
   "cell_type": "code",
   "execution_count": null,
   "metadata": {},
   "outputs": [],
   "source": []
  },
  {
   "cell_type": "code",
   "execution_count": null,
   "metadata": {},
   "outputs": [],
   "source": []
  },
  {
   "cell_type": "code",
   "execution_count": null,
   "metadata": {},
   "outputs": [],
   "source": []
  },
  {
   "cell_type": "code",
   "execution_count": null,
   "metadata": {},
   "outputs": [],
   "source": []
  },
  {
   "cell_type": "code",
   "execution_count": null,
   "metadata": {},
   "outputs": [],
   "source": []
  },
  {
   "cell_type": "code",
   "execution_count": null,
   "metadata": {},
   "outputs": [],
   "source": []
  }
 ],
 "metadata": {
  "kernelspec": {
   "display_name": "chmi",
   "language": "python",
   "name": "python3"
  },
  "language_info": {
   "codemirror_mode": {
    "name": "ipython",
    "version": 3
   },
   "file_extension": ".py",
   "mimetype": "text/x-python",
   "name": "python",
   "nbconvert_exporter": "python",
   "pygments_lexer": "ipython3",
   "version": "3.10.11"
  },
  "orig_nbformat": 4
 },
 "nbformat": 4,
 "nbformat_minor": 2
}
