{
 "cells": [
  {
   "attachments": {},
   "cell_type": "markdown",
   "metadata": {},
   "source": [
    "# Doing diff on resume (docx)\n",
    "\n",
    "Compare two resumes in docx format."
   ]
  },
  {
   "attachments": {},
   "cell_type": "markdown",
   "metadata": {},
   "source": [
    "```\n",
    "conda install -c conda-forge python-docx\n",
    "````"
   ]
  },
  {
   "cell_type": "code",
   "execution_count": 1,
   "metadata": {},
   "outputs": [],
   "source": [
    "import difflib\n",
    "import docx"
   ]
  },
  {
   "cell_type": "code",
   "execution_count": 2,
   "metadata": {},
   "outputs": [
    {
     "data": {
      "text/plain": [
       "'Jansen LIN\\nlinjansen91@gmail.com   +65 9793 5363   linkedin.com/in/jansen-lin-jx\\xa0  Available to work from 23rd Jan 2023\\n\\nEXECUTIVE SUMMARY\\nPurpose-driven and highly motivated, I aspire to bring positive impact to the world through my work, especially in driving environmental sustainability. I have a diverse range of professional experiences encompassing environmental, civil, chemical engineering, food science, data science, machine learning (ML) & artificial intelligence (AI). I envision myself constantly learning and improving myself to deliver the best for the betterment of society and benefits of people.\\n\\nCORE COMPETENCIES\\n\\nCAREER EXPERIENCE\\nAI SINGAPORE (AISG) – Singapore\\t – \\nArtificial Intelligence (AI) Apprentice\\nCurrently working on a Computer Vision (CV) project with Continental’s Automotive group sector, to replace human-operated testing processes for Human-Machine-Interface (HMI) screens with an AI-powered workflow.\\nInnovated & wrote from scratch, a layout matching algorithm for detected layouts of HMI screens, able to rival the accuracy achieved by state-of-the-art ML based algorithms (self-supervised learning models).\\nDeveloped & deployed a robust 2-stage pipeline comprising object detection model (YOLOX) and layout matching algorithms, able to achieve layout matching accuracy of over 97% on client’s HMI screens images dataset.\\nDesigned an effective data preprocessing pipeline after conducting comprehensive Exploratory Data Analysis (EDA) and close communications with clients to ensure proper raw data preparation (e.g. image data labelling & annotations).\\nBuilt a trash detection AI prototype (for a mini-project), as a 4-man team, using the YOLOv5 model deployed via AISG’s open-source, modular framework in Python for CV inferencing (PeekingDuck), in just 3 days.\\nCompleted an intensive 2 months deep-skilling phase, where I deep dived into various core areas of AI (supervised learning, unsupervised learning, MLOps, artificial neural network, computer vision, natural language processing).\\n\\nNATIONAL UNIVERSITY OF SINGAPORE (NUS) – Singapore\\t – \\nYong Loo Lin School of Medicine, Department of Medicine\\nResearch Engineer\\nCo-Invented (lead inventor of) a data-based microfluidic system, able to produce healthy, diabetes-friendly and palatable noodles which are texturally and nutritionally customisable based on user’s inputs. This led to the filing and granting of an international patent (WO2021002804A1). Published 2 related reseach papers as 1st and 2nd author.\\nParticipated in a 10-week entrepreneurship programme (Lean LaunchPad Singapore) as the Team Lead to find product-market fit for our invention. Received mentorship from seasoned industry business leaders. Conducted 44 interviews with medical professionals, nutritionists and targeted consumers and completed a Business Model Canvas. \\nCollaborated and communicated new research findings with a multi-disciplinary team comprising members from 4 domains (Medicine, Chemical & Biomolecular Engineering, Food Science & Technology (FST), Public Health).\\nSupervised 2 batch of undergraduate students on their final year research projects.\\n\\nLAND TRANSPORT AUTHORITY (LTA) – Singapore\\t – \\nEnvironmental Section Intern\\nReviewed Environmental Impact Assessment (EIA) reports submitted by Environmental consultants to ensure that the environmental considerations are factored into and robust environmental management plans are put in place for the proposed construction projects.\\nCreated an EIA review checklist specific to LTA’s construction sites and based on international guidelines which enabled the Environmental section to have a more comprehensive and standardised review process.\\nEnforced compliance to law and regulation of roads and rails construction sites through conducting of site inspections and reporting of good or bad environmental practices to the management.\\nLiaised and worked with stakeholders such as the LTA construction engineers and external concrete experts to explore the feasibility of substituting the commonly used ‘OPC’ concretes with other concrete types of lower carbon footprint for future MRT stations.\\nPresented research findings on EIA review checklist and analysis of Vector data (e.g. dengue cases trends) of LTA construction sites to the whole of Environmental section, which helped improve work processes and promote awareness of latest data and trends.\\nEDUCATION/PROFESSIONAL QUALIFICATIONS & CERTIFICATIONS/COURSES & TRAINING ATTENDED\\nNATIONAL UNIVERSITY OF SINGAPORE (NUS)\\nMaster of Science (Environmental Engineering)\\t – \\nLed multiple team projects with diverse international student members towards quality outcomes.\\nBachelor of Engineering (Environmental Engineering), Honours\\t – \\nAwarded Final Year Project (FYP) Research Poster Award for FYP Symposium, 2016.\\n\\nChartered AI Engineering (CAIE) Associate – AI Professionals Association\\t \\nAwarded via Artificial Intelligence Apprenticeship Programme (AIAP) batch #10 at AISG on 7 November 2022.\\n\\nFull list of certifications available on: linkedin.com/in/jansen-lin-jx/details/certifications/\\n\\nADDITIONAL\\nTechnical Skills: Microsoft Office, Python, Matlab, R programming, C programming, SQL , Git, Agile, data science, machine learning, artificial intelligence, computer vision, natural language processing, software engineering, MLOps, Google Cloud Platform (GCP), Microsoft Azure, Microsoft Azure Machine Learning, Amazon S3, SOLIDWORKS, QGIS, Delft 3D\\nLanguage fluency: English (Fluent) , Mandarin Chinese (Fluent)\\nInterests: Badminton (Regular Player, Former Recre Club Captain), Singing (Hark Music School, NUS CAC Voices), Bowling (Elites NUSS)\\n\\n\\n\\n'"
      ]
     },
     "execution_count": 2,
     "metadata": {},
     "output_type": "execute_result"
    }
   ],
   "source": [
    "# Open the first Word document and extract its text\n",
    "document1 = docx.Document(\n",
    "    'C:/Users/Jansen-Lin/Desktop/2. Important Desktop Folders/JOBS RELATED/2022-10-30 Pre-AIAP-Graduation Job Search/011 AECOM/Resume - Jansen Lin.docx'\n",
    "    # 'C:/Users/Jansen-Lin/Desktop/2. Important Desktop Folders/JOBS RELATED/2022-10-30 Pre-AIAP-Graduation Job Search/Resume_2_data_pure/Resume - Jansen Lin.docx'\n",
    "    # 'C:/Users/Jansen-Lin/Desktop/2. Important Desktop Folders/JOBS RELATED/2022-10-30 Pre-AIAP-Graduation Job Search/Resume_2_data_pure/Resume - Jansen Lin.docx'\n",
    ")\n",
    "text1 = '\\n'.join([paragraph.text for paragraph in document1.paragraphs])\n",
    "text1\n"
   ]
  },
  {
   "cell_type": "code",
   "execution_count": 3,
   "metadata": {},
   "outputs": [
    {
     "data": {
      "text/plain": [
       "'Jansen LIN\\n✉ linjansen91@gmail.com   ✆ +65 9793 5363   linkedin.com/in/jansen-lin-jx\\xa0   github.com/Jansen-Lin\\n\\nEXECUTIVE SUMMARY\\nPurpose-driven and highly motivated, I aspire to bring positive impact to the world through my work, especially in driving environmental sustainability. I have a diverse range of professional experiences encompassing environmental/civil/chemical engineering, food science, data science (DS), machine learning (ML) & artificial intelligence (AI). I envision myself constantly learning and improving myself to deliver the best for the betterment of society and benefits of people.\\n\\nCORE COMPETENCIES\\n\\nCAREER EXPERIENCE\\nAI SINGAPORE (AISG) – Singapore\\t – \\nAssociate AI Engineer\\nCurrently working on a Computer Vision (CV) project with Continental’s Automotive group sector, to replace human-operated testing processes for Human-Machine-Interface (HMI) screens with an AI-powered workflow.\\nDeveloped & deployed a robust 2-stage pipeline comprising object detection model (YOLOX) and layout matching algorithms, able to achieve layout matching accuracy of over 98% on client’s HMI screens images dataset.\\nInnovated & wrote from scratch in python, a layout matching algorithm for detected layouts of HMI screens, able to rival the accuracy achieved by state-of-the-art ML based algorithms (self-supervised learning models).\\nDesigned an effective data preprocessing pipeline after a comprehensive Exploratory Data Analysis (EDA) & close communications with clients to ensure proper raw data preparation (e.g. image data labelling & annotations).\\nBuilt a trash detection AI prototype (for a mini-project), as a 4-man team, using the YOLOv5 model deployed via AISG’s open-source, modular framework in Python for CV inferencing (PeekingDuck), in just 3 days.\\nCompleted an intensive 2 months deep-skilling phase, deep diving into various core areas of AI (supervised learning, unsupervised learning, MLOps, artificial neural network, computer vision, natural language processing).\\n\\nNATIONAL UNIVERSITY OF SINGAPORE (NUS) – Singapore\\t – \\nYong Loo Lin School of Medicine, Department of Medicine\\nResearch Engineer\\nCo-Invented (lead inventor of) a data-based microfluidic system, able to produce healthy, diabetes-friendly and palatable noodles which are texturally and nutritionally customisable based on user’s inputs. This led to the filing and granting of an international patent (WO2021002804A1). Published 2 related reseach papers as 1st and 2nd author.\\nCollaborated and communicated new research findings with a multi-disciplinary team comprising members from 4 domains (Medicine, Chemical & Biomolecular Engineering, Food Science & Technology (FST), Public Health), as part the ‘Future Foods for Health initiative’ under the National University Health System (NUHS) Health Innovation Program.\\nSuccessfully scaled-up a typically low-throughput microfluidic system by 14 times the original production rate. Despite equipment constraints, a bench-top system was set up which enabled novel noodles to be produced at multiple full meal servings for human consumption in clinical trials.\\nParticipated in a 10-week entrepreneurship programme (Lean LaunchPad Singapore) as the Team Lead to find product-market fit for our invention. Received mentorship from seasoned industry business leaders. Conducted 44 interviews with medical professionals, nutritionists and targeted consumers and completed a Business Model Canvas. \\nSupervised 2 batch of undergraduate students on their final year research projects.\\n\\nLAND TRANSPORT AUTHORITY (LTA) – Singapore\\t – \\nEnvironmental Section Intern\\nReviewed Environmental Impact Assessment (EIA) reports submitted by Environmental consultants to ensure that the environmental considerations are factored into and robust environmental management plans are put in place for the proposed construction projects.\\nCreated an EIA review checklist specific to LTA’s construction sites and based on international guidelines which enabled the Environmental section to have a more comprehensive and standardised review process.\\nEnforced compliance to law and regulation of roads and rails construction sites through conducting of site inspections and reporting of good or bad environmental practices to the management.\\nLiaised with stakeholders (e.g. LTA construction engineers & external concrete experts) to explore feasibility of substituting commonly used ‘OPC’ concretes with other concrete types of lower carbon footprint for future MRT stations.\\nPresented research findings on EIA review checklist and analysis of Vector data (e.g. dengue cases trends) of LTA construction sites to the team, which improved work processes and promote awareness of latest trends and data.\\n\\nEDUCATION HISTORY\\nNATIONAL UNIVERSITY OF SINGAPORE (NUS)\\nMaster of Science (Environmental Engineering)\\t – \\nModules with programming/DS/ML: Hydroinformatics, Numerical Methods in Mechanics & Environmental Flows.\\nLed multiple team projects with diverse international student members towards quality outcomes.\\nBachelor of Engineering (Environmental Engineering), Honours\\t – \\nAwarded Final Year Project (FYP) Research Poster Award for FYP Symposium, 2016.\\n\\nPROFESSIONAL QUALIFICATIONS & CERTIFICATIONS/COURSES & TRAINING ATTENDED\\nChartered AI Engineering (CAIE) Associate – AI Professionals Association\\t \\nAwarded via Artificial Intelligence Apprenticeship Programme (AIAP) batch #10 at AISG on 7 Nov 2022, for possessing technical competencies and experiences to build deployable AI solutions and put them into production.\\n\\nMore certifications available on: linkedin.com/in/jansen-lin-jx/details/certifications/\\n\\nADDITIONAL\\nTechnical Skills: Microsoft Office, Power BI, Python, R programming, C programming, Matlab, SQL, SOLIDWORKS, QGIS, Delft 3D, Git, Agile, Google Cloud Platform (GCP), Microsoft Azure, Microsoft Azure Machine Learning, Amazon S3, KubeFlow, Docker, Polyaxon\\nLanguage fluency: English (Fluent) , Mandarin Chinese (Fluent)\\nInterests: Badminton (Regular Player, Former Recre Club Captain), Singing (Hark Music School, NUS CAC Voices), Bowling (Elites NUSS)\\n\\n\\n\\n'"
      ]
     },
     "execution_count": 3,
     "metadata": {},
     "output_type": "execute_result"
    }
   ],
   "source": [
    "# Open the second Word document and extract its text\n",
    "document2 = docx.Document(\n",
    "    'C:/Users/Jansen-Lin/Desktop/2. Important Desktop Folders/JOBS RELATED/2022-10-30 Pre-AIAP-Graduation Job Search/Resume_4_env_pure/Resume - Jansen Lin.docx'\n",
    ")\n",
    "text2 = '\\n'.join([paragraph.text for paragraph in document2.paragraphs])\n",
    "text2"
   ]
  },
  {
   "cell_type": "code",
   "execution_count": 4,
   "metadata": {},
   "outputs": [
    {
     "data": {
      "text/plain": [
       "<generator object Differ.compare at 0x000001B47D6F5EB0>"
      ]
     },
     "execution_count": 4,
     "metadata": {},
     "output_type": "execute_result"
    }
   ],
   "source": [
    "# Compare the texts using the difflib library\n",
    "diff = difflib.Differ().compare(text1.splitlines(), text2.splitlines())\n",
    "diff"
   ]
  },
  {
   "cell_type": "code",
   "execution_count": 5,
   "metadata": {},
   "outputs": [
    {
     "name": "stdout",
     "output_type": "stream",
     "text": [
      "  Jansen LIN\n",
      "- linjansen91@gmail.com   +65 9793 5363   linkedin.com/in/jansen-lin-jx   Available to work from 23rd Jan 2023\n",
      "?                                                                         ^^^ ^^ ^^^^^^^^^^^^^  ^^^^^^   ^^^^^\n",
      "\n",
      "+ ✉ linjansen91@gmail.com   ✆ +65 9793 5363   linkedin.com/in/jansen-lin-jx    github.com/Jansen-Lin\n",
      "? ++                       ++                                                 ^^ ^^^ ^^  ^   ^^^^^^^\n",
      "\n",
      "  \n",
      "  EXECUTIVE SUMMARY\n",
      "- Purpose-driven and highly motivated, I aspire to bring positive impact to the world through my work, especially in driving environmental sustainability. I have a diverse range of professional experiences encompassing environmental, civil, chemical engineering, food science, data science, machine learning (ML) & artificial intelligence (AI). I envision myself constantly learning and improving myself to deliver the best for the betterment of society and benefits of people.\n",
      "?                                                                                                                                                                                                                                         ^^^^^  ^^^^^^^^^^^^^^^^^^^^^^^^^^^^^^^^^^^^^^^^^^^^^^^^\n",
      "\n",
      "+ Purpose-driven and highly motivated, I aspire to bring positive impact to the world through my work, especially in driving environmental sustainability. I have a diverse range of professional experiences encompassing environmental/civil/chemical engineering, food science, data science (DS), machine learning (ML) & artificial intelligence (AI). I envision myself constantly learning and improving myself to deliver the best for the betterment of society and benefits of people.\n",
      "?                                                                                                                                                                                                                                       +++++++++++++++++++++++++++  ^^^^^^^^^^^^  ^^^^^^^^^^^^^^^^^\n",
      "\n",
      "  \n",
      "  CORE COMPETENCIES\n",
      "  \n",
      "  CAREER EXPERIENCE\n",
      "  AI SINGAPORE (AISG) – Singapore\t – \n",
      "- Artificial Intelligence (AI) Apprentice\n",
      "+ Associate AI Engineer\n",
      "  Currently working on a Computer Vision (CV) project with Continental’s Automotive group sector, to replace human-operated testing processes for Human-Machine-Interface (HMI) screens with an AI-powered workflow.\n",
      "- Innovated & wrote from scratch, a layout matching algorithm for detected layouts of HMI screens, able to rival the accuracy achieved by state-of-the-art ML based algorithms (self-supervised learning models).\n",
      "- Developed & deployed a robust 2-stage pipeline comprising object detection model (YOLOX) and layout matching algorithms, able to achieve layout matching accuracy of over 97% on client’s HMI screens images dataset.\n",
      "?                                                                                                                                                                            ^\n",
      "\n",
      "+ Developed & deployed a robust 2-stage pipeline comprising object detection model (YOLOX) and layout matching algorithms, able to achieve layout matching accuracy of over 98% on client’s HMI screens images dataset.\n",
      "?                                                                                                                                                                            ^\n",
      "\n",
      "+ Innovated & wrote from scratch in python, a layout matching algorithm for detected layouts of HMI screens, able to rival the accuracy achieved by state-of-the-art ML based algorithms (self-supervised learning models).\n",
      "- Designed an effective data preprocessing pipeline after conducting comprehensive Exploratory Data Analysis (EDA) and close communications with clients to ensure proper raw data preparation (e.g. image data labelling & annotations).\n",
      "?                                                         ^^^^^^^^^^                                               ^^^\n",
      "\n",
      "+ Designed an effective data preprocessing pipeline after a comprehensive Exploratory Data Analysis (EDA) & close communications with clients to ensure proper raw data preparation (e.g. image data labelling & annotations).\n",
      "?                                                         ^                                               ^\n",
      "\n",
      "  Built a trash detection AI prototype (for a mini-project), as a 4-man team, using the YOLOv5 model deployed via AISG’s open-source, modular framework in Python for CV inferencing (PeekingDuck), in just 3 days.\n",
      "- Completed an intensive 2 months deep-skilling phase, where I deep dived into various core areas of AI (supervised learning, unsupervised learning, MLOps, artificial neural network, computer vision, natural language processing).\n",
      "?                                                      ^^^^^^^^^^^^^^^^^^\n",
      "\n",
      "+ Completed an intensive 2 months deep-skilling phase, deep diving into various core areas of AI (supervised learning, unsupervised learning, MLOps, artificial neural network, computer vision, natural language processing).\n",
      "?                                                      ^^^^^^^^^^^\n",
      "\n",
      "  \n",
      "  NATIONAL UNIVERSITY OF SINGAPORE (NUS) – Singapore\t – \n",
      "  Yong Loo Lin School of Medicine, Department of Medicine\n",
      "  Research Engineer\n",
      "  Co-Invented (lead inventor of) a data-based microfluidic system, able to produce healthy, diabetes-friendly and palatable noodles which are texturally and nutritionally customisable based on user’s inputs. This led to the filing and granting of an international patent (WO2021002804A1). Published 2 related reseach papers as 1st and 2nd author.\n",
      "+ Collaborated and communicated new research findings with a multi-disciplinary team comprising members from 4 domains (Medicine, Chemical & Biomolecular Engineering, Food Science & Technology (FST), Public Health), as part the ‘Future Foods for Health initiative’ under the National University Health System (NUHS) Health Innovation Program.\n",
      "+ Successfully scaled-up a typically low-throughput microfluidic system by 14 times the original production rate. Despite equipment constraints, a bench-top system was set up which enabled novel noodles to be produced at multiple full meal servings for human consumption in clinical trials.\n",
      "  Participated in a 10-week entrepreneurship programme (Lean LaunchPad Singapore) as the Team Lead to find product-market fit for our invention. Received mentorship from seasoned industry business leaders. Conducted 44 interviews with medical professionals, nutritionists and targeted consumers and completed a Business Model Canvas. \n",
      "- Collaborated and communicated new research findings with a multi-disciplinary team comprising members from 4 domains (Medicine, Chemical & Biomolecular Engineering, Food Science & Technology (FST), Public Health).\n",
      "  Supervised 2 batch of undergraduate students on their final year research projects.\n",
      "  \n",
      "  LAND TRANSPORT AUTHORITY (LTA) – Singapore\t – \n",
      "  Environmental Section Intern\n",
      "  Reviewed Environmental Impact Assessment (EIA) reports submitted by Environmental consultants to ensure that the environmental considerations are factored into and robust environmental management plans are put in place for the proposed construction projects.\n",
      "  Created an EIA review checklist specific to LTA’s construction sites and based on international guidelines which enabled the Environmental section to have a more comprehensive and standardised review process.\n",
      "  Enforced compliance to law and regulation of roads and rails construction sites through conducting of site inspections and reporting of good or bad environmental practices to the management.\n",
      "- Liaised and worked with stakeholders such as the LTA construction engineers and external concrete experts to explore the feasibility of substituting the commonly used ‘OPC’ concretes with other concrete types of lower carbon footprint for future MRT stations.\n",
      "?         ^^ ^^^^^^^^^^^^^^^^^^^^^^^^^^^^^^^^^^^^^                            ^^^                                      ----                           ----\n",
      "\n",
      "+ Liaised with stakeholders (e.g. LTA construction engineers & external concrete experts) to explore feasibility of substituting commonly used ‘OPC’ concretes with other concrete types of lower carbon footprint for future MRT stations.\n",
      "?         ^^^^^^^^^^^^^ ^^^^^^^^^                            ^                          +\n",
      "\n",
      "- Presented research findings on EIA review checklist and analysis of Vector data (e.g. dengue cases trends) of LTA construction sites to the whole of Environmental section, which helped improve work processes and promote awareness of latest data and trends.\n",
      "?                                                                                                                                             ^^^^^^^^^^^^^^^^ -------------       -------                                                        ^^^^^^^^^^^^^^^\n",
      "\n",
      "+ Presented research findings on EIA review checklist and analysis of Vector data (e.g. dengue cases trends) of LTA construction sites to the team, which improved work processes and promote awareness of latest trends and data.\n",
      "?                                                                                                                                             ^^^                +                                                ^^^^^^^^^^^^^^^\n",
      "\n",
      "- EDUCATION/PROFESSIONAL QUALIFICATIONS & CERTIFICATIONS/COURSES & TRAINING ATTENDED\n",
      "+ \n",
      "+ EDUCATION HISTORY\n",
      "  NATIONAL UNIVERSITY OF SINGAPORE (NUS)\n",
      "  Master of Science (Environmental Engineering)\t – \n",
      "+ Modules with programming/DS/ML: Hydroinformatics, Numerical Methods in Mechanics & Environmental Flows.\n",
      "  Led multiple team projects with diverse international student members towards quality outcomes.\n",
      "  Bachelor of Engineering (Environmental Engineering), Honours\t – \n",
      "  Awarded Final Year Project (FYP) Research Poster Award for FYP Symposium, 2016.\n",
      "  \n",
      "+ PROFESSIONAL QUALIFICATIONS & CERTIFICATIONS/COURSES & TRAINING ATTENDED\n",
      "  Chartered AI Engineering (CAIE) Associate – AI Professionals Association\t \n",
      "- Awarded via Artificial Intelligence Apprenticeship Programme (AIAP) batch #10 at AISG on 7 November 2022.\n",
      "+ Awarded via Artificial Intelligence Apprenticeship Programme (AIAP) batch #10 at AISG on 7 Nov 2022, for possessing technical competencies and experiences to build deployable AI solutions and put them into production.\n",
      "  \n",
      "- Full list of certifications available on: linkedin.com/in/jansen-lin-jx/details/certifications/\n",
      "? ^^^^^^^^^^ ^\n",
      "\n",
      "+ More certifications available on: linkedin.com/in/jansen-lin-jx/details/certifications/\n",
      "? ^ ^^\n",
      "\n",
      "  \n",
      "  ADDITIONAL\n",
      "- Technical Skills: Microsoft Office, Python, Matlab, R programming, C programming, SQL , Git, Agile, data science, machine learning, artificial intelligence, computer vision, natural language processing, software engineering, MLOps, Google Cloud Platform (GCP), Microsoft Azure, Microsoft Azure Machine Learning, Amazon S3, SOLIDWORKS, QGIS, Delft 3D\n",
      "+ Technical Skills: Microsoft Office, Power BI, Python, R programming, C programming, Matlab, SQL, SOLIDWORKS, QGIS, Delft 3D, Git, Agile, Google Cloud Platform (GCP), Microsoft Azure, Microsoft Azure Machine Learning, Amazon S3, KubeFlow, Docker, Polyaxon\n",
      "  Language fluency: English (Fluent) , Mandarin Chinese (Fluent)\n",
      "  Interests: Badminton (Regular Player, Former Recre Club Captain), Singing (Hark Music School, NUS CAC Voices), Bowling (Elites NUSS)\n",
      "  \n",
      "  \n",
      "  \n"
     ]
    }
   ],
   "source": [
    "# Print the differences\n",
    "for line in diff:\n",
    "    print(line)"
   ]
  },
  {
   "cell_type": "code",
   "execution_count": 6,
   "metadata": {},
   "outputs": [],
   "source": [
    "# import difflib\n",
    "# import docx\n",
    "\n",
    "# # Open the first Word document and extract its text\n",
    "# document1 = docx.Document(\n",
    "#     '../src/2022-10-30 Pre-AIAP-Graduation Job Search/001/Resume - Jansen Lin')\n",
    "# text1 = '\\n'.join([paragraph.text for paragraph in document1.paragraphs])\n",
    "\n",
    "# # Open the second Word document and extract its text\n",
    "# document2 = docx.Document('document2.docx')\n",
    "# text2 = '\\n'.join([paragraph.text for paragraph in document2.paragraphs])\n",
    "\n",
    "# # Compare the texts using the difflib library\n",
    "# diff = difflib.Differ().compare(text1.splitlines(), text2.splitlines())\n",
    "\n",
    "# # Print the differences\n",
    "# for line in diff:\n",
    "#     print(line)"
   ]
  }
 ],
 "metadata": {
  "kernelspec": {
   "display_name": "Data_Science_2",
   "language": "python",
   "name": "python3"
  },
  "language_info": {
   "codemirror_mode": {
    "name": "ipython",
    "version": 3
   },
   "file_extension": ".py",
   "mimetype": "text/x-python",
   "name": "python",
   "nbconvert_exporter": "python",
   "pygments_lexer": "ipython3",
   "version": "3.9.11 (main, Mar 30 2022, 02:45:55) [MSC v.1916 64 bit (AMD64)]"
  },
  "orig_nbformat": 4,
  "vscode": {
   "interpreter": {
    "hash": "a831cfbb3de98ce6ab9c871b23d1d16988161c9f19d83b0ffff4cf37458b0f2b"
   }
  }
 },
 "nbformat": 4,
 "nbformat_minor": 2
}
