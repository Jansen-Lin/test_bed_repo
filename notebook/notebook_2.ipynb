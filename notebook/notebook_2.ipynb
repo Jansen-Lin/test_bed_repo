{
 "cells": [
  {
   "attachments": {},
   "cell_type": "markdown",
   "metadata": {},
   "source": [
    "# Convert Excel table to Markdown syntax\n",
    "Because typing out the markdown code for a table is tough and tedious, therefore, I use python to help me generate the markdown syntax from excel tables. Excel tables makes it more user friendly for data entry."
   ]
  },
  {
   "cell_type": "code",
   "execution_count": 1,
   "metadata": {},
   "outputs": [],
   "source": [
    "import pandas as pd"
   ]
  },
  {
   "cell_type": "code",
   "execution_count": 2,
   "metadata": {},
   "outputs": [
    {
     "data": {
      "text/html": [
       "<div>\n",
       "<style scoped>\n",
       "    .dataframe tbody tr th:only-of-type {\n",
       "        vertical-align: middle;\n",
       "    }\n",
       "\n",
       "    .dataframe tbody tr th {\n",
       "        vertical-align: top;\n",
       "    }\n",
       "\n",
       "    .dataframe thead th {\n",
       "        text-align: right;\n",
       "    }\n",
       "</style>\n",
       "<table border=\"1\" class=\"dataframe\">\n",
       "  <thead>\n",
       "    <tr style=\"text-align: right;\">\n",
       "      <th></th>\n",
       "      <th>Person</th>\n",
       "      <th>name</th>\n",
       "      <th>height_cm</th>\n",
       "      <th>weight_kg</th>\n",
       "    </tr>\n",
       "  </thead>\n",
       "  <tbody>\n",
       "    <tr>\n",
       "      <th>0</th>\n",
       "      <td>1</td>\n",
       "      <td>Jane</td>\n",
       "      <td>168</td>\n",
       "      <td>68</td>\n",
       "    </tr>\n",
       "    <tr>\n",
       "      <th>1</th>\n",
       "      <td>2</td>\n",
       "      <td>Peter</td>\n",
       "      <td>170</td>\n",
       "      <td>60</td>\n",
       "    </tr>\n",
       "    <tr>\n",
       "      <th>2</th>\n",
       "      <td>3</td>\n",
       "      <td>Edward</td>\n",
       "      <td>172</td>\n",
       "      <td>93</td>\n",
       "    </tr>\n",
       "    <tr>\n",
       "      <th>3</th>\n",
       "      <td>4</td>\n",
       "      <td>Tom</td>\n",
       "      <td>174</td>\n",
       "      <td>68</td>\n",
       "    </tr>\n",
       "  </tbody>\n",
       "</table>\n",
       "</div>"
      ],
      "text/plain": [
       "   Person    name  height_cm  weight_kg\n",
       "0       1    Jane        168         68\n",
       "1       2   Peter        170         60\n",
       "2       3  Edward        172         93\n",
       "3       4     Tom        174         68"
      ]
     },
     "execution_count": 2,
     "metadata": {},
     "output_type": "execute_result"
    }
   ],
   "source": [
    "df = pd.read_excel(\n",
    "    \"../data/excel_table_to_md.xlsx\",\n",
    ")\n",
    "df"
   ]
  },
  {
   "cell_type": "code",
   "execution_count": 3,
   "metadata": {},
   "outputs": [
    {
     "name": "stdout",
     "output_type": "stream",
     "text": [
      "|    |   Person | name   |   height_cm |   weight_kg |\n",
      "|---:|---------:|:-------|------------:|------------:|\n",
      "|  0 |        1 | Jane   |         168 |          68 |\n",
      "|  1 |        2 | Peter  |         170 |          60 |\n",
      "|  2 |        3 | Edward |         172 |          93 |\n",
      "|  3 |        4 | Tom    |         174 |          68 |\n"
     ]
    }
   ],
   "source": [
    "table_md = df.to_markdown()\n",
    "print(table_md)\n"
   ]
  },
  {
   "attachments": {},
   "cell_type": "markdown",
   "metadata": {},
   "source": [
    "|    |   Person | name   |   height_cm |   weight_kg |\n",
    "|---:|---------:|:-------|------------:|------------:|\n",
    "|  0 |        1 | Jane   |         168 |          68 |\n",
    "|  1 |        2 | Peter  |         170 |          60 |\n",
    "|  2 |        3 | Edward |         172 |          93 |\n",
    "|  3 |        4 | Tom    |         174 |          68 |"
   ]
  },
  {
   "cell_type": "code",
   "execution_count": 4,
   "metadata": {},
   "outputs": [],
   "source": [
    "# This overwrite all existing content with new ones\n",
    "with open(\"../output/output_nb_2.md\", \"w\") as f:\n",
    "    f.write(table_md)\n",
    "\n",
    "# This appends content\n",
    "with open(\"../output/output_nb_2.md\", \"a\") as f:\n",
    "    f.write(\"\\n\\n\")  # Write two empty lines to a markdown file\n",
    "    f.write(table_md)  # Continues writing from the last empty line\n"
   ]
  },
  {
   "cell_type": "code",
   "execution_count": null,
   "metadata": {},
   "outputs": [],
   "source": [
    "\n"
   ]
  },
  {
   "cell_type": "markdown",
   "metadata": {},
   "source": []
  }
 ],
 "metadata": {
  "kernelspec": {
   "display_name": "Python 3.9.11 ('Data_Science_2')",
   "language": "python",
   "name": "python3"
  },
  "language_info": {
   "codemirror_mode": {
    "name": "ipython",
    "version": 3
   },
   "file_extension": ".py",
   "mimetype": "text/x-python",
   "name": "python",
   "nbconvert_exporter": "python",
   "pygments_lexer": "ipython3",
   "version": "3.9.11"
  },
  "orig_nbformat": 4,
  "vscode": {
   "interpreter": {
    "hash": "a831cfbb3de98ce6ab9c871b23d1d16988161c9f19d83b0ffff4cf37458b0f2b"
   }
  }
 },
 "nbformat": 4,
 "nbformat_minor": 2
}
