{
 "cells": [
  {
   "attachments": {},
   "cell_type": "markdown",
   "metadata": {},
   "source": [
    "__Collates all the first cell of .ipynb files found in folder directory `notebooks/`.__ <br>\n",
    "Just `Run All` to generate this collated first cells."
   ]
  },
  {
   "cell_type": "code",
   "execution_count": 1,
   "metadata": {},
   "outputs": [],
   "source": [
    "import os\n",
    "import re\n",
    "import nbformat\n"
   ]
  },
  {
   "cell_type": "code",
   "execution_count": 2,
   "metadata": {},
   "outputs": [],
   "source": [
    "\n",
    "# Change this to the directory containing your notebooks\n",
    "notebook_dir = 'notebook'"
   ]
  },
  {
   "cell_type": "code",
   "execution_count": 3,
   "metadata": {},
   "outputs": [
    {
     "data": {
      "text/plain": [
       "['notebook_1.ipynb',\n",
       " 'notebook_10.ipynb',\n",
       " 'notebook_11_sound.ipynb',\n",
       " 'notebook_2.ipynb',\n",
       " 'notebook_2_private.ipynb',\n",
       " 'notebook_3.ipynb',\n",
       " 'notebook_4.ipynb',\n",
       " 'notebook_5.ipynb',\n",
       " 'notebook_6.ipynb',\n",
       " 'notebook_7.ipynb',\n",
       " 'notebook_8.ipynb',\n",
       " 'notebook_9_private.ipynb']"
      ]
     },
     "execution_count": 3,
     "metadata": {},
     "output_type": "execute_result"
    }
   ],
   "source": [
    "\n",
    "# Collect the names of all notebooks in the directory\n",
    "notebook_names = [f for f in os.listdir(notebook_dir) if f.endswith('.ipynb')]\n",
    "notebook_names"
   ]
  },
  {
   "cell_type": "code",
   "execution_count": 4,
   "metadata": {},
   "outputs": [],
   "source": [
    "# Initialize an empty dictionary to store the titles and descriptions\n",
    "titles_and_descriptions = {}\n",
    "\n",
    "# Iterate over the notebooks\n",
    "for notebook_name in notebook_names:\n",
    "  # Read the notebook file\n",
    "  with open(os.path.join(notebook_dir, notebook_name), 'r') as f:\n",
    "    notebook = nbformat.reads(f.read(), as_version=4)\n",
    "    # print(\"notebook\", notebook)\n",
    "  \n",
    "  # Extract the first markdown cell\n",
    "  markdown_cells = [cell for cell in notebook['cells'] if cell['cell_type'] == 'markdown']\n",
    "  if markdown_cells:\n",
    "    markdown_cell = markdown_cells[0]\n",
    "    # print(\"markdown_cell\", markdown_cell)\n",
    "    \n",
    "    # Extract the title from the markdown cell (assumes it is the first line)\n",
    "    title_match = re.match(r'# (.*)', markdown_cell['source'])\n",
    "    if title_match:\n",
    "      title = title_match.group(1)\n",
    "    else:\n",
    "      title = 'No title found'\n",
    "      \n",
    "    # Extract the description from the markdown cell (assumes it is everything after the first line)\n",
    "    description_match = re.match(r'# (.*)\\n(.*)', markdown_cell['source'], re.DOTALL)\n",
    "    if description_match:\n",
    "      description = description_match.group(2)\n",
    "    else:\n",
    "      description = 'No description found'\n",
    "      \n",
    "    # Add the title and description to the dictionary using the notebook name as the key\n",
    "    titles_and_descriptions[notebook_name] = (title, description)\n",
    "  else:\n",
    "    # If no markdown cell was found, add a placeholder\n",
    "    titles_and_descriptions[notebook_name] = ('No markdown cell found', 'No markdown cell found')\n"
   ]
  },
  {
   "cell_type": "code",
   "execution_count": 5,
   "metadata": {},
   "outputs": [
    {
     "name": "stdout",
     "output_type": "stream",
     "text": [
      "yes\n"
     ]
    }
   ],
   "source": [
    "if titles_and_descriptions is not None:\n",
    "    print(\"yes\")\n",
    "else:\n",
    "    print(\"No\")\n"
   ]
  },
  {
   "cell_type": "code",
   "execution_count": 6,
   "metadata": {},
   "outputs": [],
   "source": [
    "# description_match.group(2)\n"
   ]
  },
  {
   "cell_type": "code",
   "execution_count": 7,
   "metadata": {},
   "outputs": [],
   "source": [
    "# description_match.group(1)"
   ]
  },
  {
   "cell_type": "code",
   "execution_count": 8,
   "metadata": {},
   "outputs": [],
   "source": [
    "# description_match.group(0)"
   ]
  },
  {
   "cell_type": "code",
   "execution_count": 9,
   "metadata": {},
   "outputs": [
    {
     "data": {
      "text/plain": [
       "'To compare two excel sheet for differences'"
      ]
     },
     "execution_count": 9,
     "metadata": {},
     "output_type": "execute_result"
    }
   ],
   "source": [
    "title\n"
   ]
  },
  {
   "cell_type": "code",
   "execution_count": 10,
   "metadata": {},
   "outputs": [
    {
     "data": {
      "text/plain": [
       "'To compare two excel sheet for differences'"
      ]
     },
     "execution_count": 10,
     "metadata": {},
     "output_type": "execute_result"
    }
   ],
   "source": [
    "title_match.group(1)"
   ]
  },
  {
   "cell_type": "code",
   "execution_count": 11,
   "metadata": {},
   "outputs": [
    {
     "data": {
      "text/plain": [
       "'# To compare two excel sheet for differences'"
      ]
     },
     "execution_count": 11,
     "metadata": {},
     "output_type": "execute_result"
    }
   ],
   "source": [
    "title_match.group(0)"
   ]
  },
  {
   "cell_type": "code",
   "execution_count": 12,
   "metadata": {},
   "outputs": [
    {
     "data": {
      "text/plain": [
       "<re.Match object; span=(0, 44), match='# To compare two excel sheet for differences'>"
      ]
     },
     "execution_count": 12,
     "metadata": {},
     "output_type": "execute_result"
    }
   ],
   "source": [
    "title_match\n"
   ]
  },
  {
   "cell_type": "code",
   "execution_count": 13,
   "metadata": {},
   "outputs": [
    {
     "data": {
      "text/plain": [
       "{'attachments': {},\n",
       " 'cell_type': 'markdown',\n",
       " 'metadata': {},\n",
       " 'source': '# To compare two excel sheet for differences\\n\\n'}"
      ]
     },
     "execution_count": 13,
     "metadata": {},
     "output_type": "execute_result"
    }
   ],
   "source": [
    "markdown_cell\n"
   ]
  },
  {
   "cell_type": "code",
   "execution_count": 14,
   "metadata": {},
   "outputs": [
    {
     "data": {
      "text/plain": [
       "[{'attachments': {},\n",
       "  'cell_type': 'markdown',\n",
       "  'metadata': {},\n",
       "  'source': '# To compare two excel sheet for differences\\n\\n'},\n",
       " {'cell_type': 'code',\n",
       "  'execution_count': 1,\n",
       "  'metadata': {},\n",
       "  'outputs': [],\n",
       "  'source': 'import pandas as pd\\nfrom openpyxl import load_workbook\\n'},\n",
       " {'cell_type': 'code',\n",
       "  'execution_count': 2,\n",
       "  'metadata': {},\n",
       "  'outputs': [],\n",
       "  'source': \"df1 = pd.read_excel('C:\\\\\\\\Users\\\\\\\\Jansen-Lin\\\\\\\\Desktop\\\\\\\\1. Frequently Used Files\\\\\\\\Accounts and password.xlsx')\\ndf2 = pd.read_excel('C:\\\\\\\\Users\\\\\\\\Jansen-Lin\\\\\\\\Desktop\\\\\\\\1. Frequently Used Files\\\\\\\\Accounts and password 2023-02-20.xlsx')\\n# df2 = pd.read_excel('C:\\\\\\\\Users\\\\\\\\Jansen-Lin\\\\\\\\Desktop\\\\\\\\1. Frequently Used Files\\\\\\\\Accounts and password.xlsx')\"},\n",
       " {'cell_type': 'code',\n",
       "  'execution_count': 3,\n",
       "  'metadata': {},\n",
       "  'outputs': [{'name': 'stdout',\n",
       "    'output_type': 'stream',\n",
       "    'text': 'The two sheets are different.\\n'}],\n",
       "  'source': 'if df1.equals(df2):\\n    print(\"The two sheets are identical.\")\\nelse:\\n    print(\"The two sheets are different.\")\\n'},\n",
       " {'cell_type': 'code',\n",
       "  'execution_count': 4,\n",
       "  'metadata': {},\n",
       "  'outputs': [{'ename': 'ValueError',\n",
       "    'evalue': 'Can only compare identically-labeled DataFrame objects',\n",
       "    'output_type': 'error',\n",
       "    'traceback': ['\\x1b[1;31m---------------------------------------------------------------------------\\x1b[0m',\n",
       "     '\\x1b[1;31mValueError\\x1b[0m                                Traceback (most recent call last)',\n",
       "     \"\\x1b[1;32mc:\\\\Users\\\\Jansen-Lin\\\\github-local-repo\\\\test_bed_repo\\\\notebook\\\\notebook_9_private.ipynb Cell 5\\x1b[0m in \\x1b[0;36m<cell line: 2>\\x1b[1;34m()\\x1b[0m\\n\\x1b[0;32m      <a href='vscode-notebook-cell:/c%3A/Users/Jansen-Lin/github-local-repo/test_bed_repo/notebook/notebook_9_private.ipynb#W4sZmlsZQ%3D%3D?line=0'>1</a>\\x1b[0m \\x1b[39m# Compare the two DataFrames and identify the differences\\x1b[39;00m\\n\\x1b[1;32m----> <a href='vscode-notebook-cell:/c%3A/Users/Jansen-Lin/github-local-repo/test_bed_repo/notebook/notebook_9_private.ipynb#W4sZmlsZQ%3D%3D?line=1'>2</a>\\x1b[0m diff \\x1b[39m=\\x1b[39m df1\\x1b[39m.\\x1b[39;49mcompare(df2)\\n\",\n",
       "     'File \\x1b[1;32mc:\\\\Users\\\\Jansen-Lin\\\\anaconda3\\\\envs\\\\Data_Science_2\\\\lib\\\\site-packages\\\\pandas\\\\core\\\\frame.py:7193\\x1b[0m, in \\x1b[0;36mDataFrame.compare\\x1b[1;34m(self, other, align_axis, keep_shape, keep_equal)\\x1b[0m\\n\\x1b[0;32m   7080\\x1b[0m \\x1b[39m@doc\\x1b[39m(\\n\\x1b[0;32m   7081\\x1b[0m     _shared_docs[\\x1b[39m\"\\x1b[39m\\x1b[39mcompare\\x1b[39m\\x1b[39m\"\\x1b[39m],\\n\\x1b[0;32m   7082\\x1b[0m     \\x1b[39m\"\"\"\\x1b[39;00m\\n\\x1b[1;32m   (...)\\x1b[0m\\n\\x1b[0;32m   7191\\x1b[0m     keep_equal: \\x1b[39mbool\\x1b[39m \\x1b[39m=\\x1b[39m \\x1b[39mFalse\\x1b[39;00m,\\n\\x1b[0;32m   7192\\x1b[0m ) \\x1b[39m-\\x1b[39m\\x1b[39m>\\x1b[39m DataFrame:\\n\\x1b[1;32m-> 7193\\x1b[0m     \\x1b[39mreturn\\x1b[39;00m \\x1b[39msuper\\x1b[39;49m()\\x1b[39m.\\x1b[39;49mcompare(\\n\\x1b[0;32m   7194\\x1b[0m         other\\x1b[39m=\\x1b[39;49mother,\\n\\x1b[0;32m   7195\\x1b[0m         align_axis\\x1b[39m=\\x1b[39;49malign_axis,\\n\\x1b[0;32m   7196\\x1b[0m         keep_shape\\x1b[39m=\\x1b[39;49mkeep_shape,\\n\\x1b[0;32m   7197\\x1b[0m         keep_equal\\x1b[39m=\\x1b[39;49mkeep_equal,\\n\\x1b[0;32m   7198\\x1b[0m     )\\n',\n",
       "     'File \\x1b[1;32mc:\\\\Users\\\\Jansen-Lin\\\\anaconda3\\\\envs\\\\Data_Science_2\\\\lib\\\\site-packages\\\\pandas\\\\core\\\\generic.py:8640\\x1b[0m, in \\x1b[0;36mNDFrame.compare\\x1b[1;34m(self, other, align_axis, keep_shape, keep_equal)\\x1b[0m\\n\\x1b[0;32m   8635\\x1b[0m     cls_self, cls_other \\x1b[39m=\\x1b[39m \\x1b[39mtype\\x1b[39m(\\x1b[39mself\\x1b[39m)\\x1b[39m.\\x1b[39m\\x1b[39m__name__\\x1b[39m, \\x1b[39mtype\\x1b[39m(other)\\x1b[39m.\\x1b[39m\\x1b[39m__name__\\x1b[39m\\n\\x1b[0;32m   8636\\x1b[0m     \\x1b[39mraise\\x1b[39;00m \\x1b[39mTypeError\\x1b[39;00m(\\n\\x1b[0;32m   8637\\x1b[0m         \\x1b[39mf\\x1b[39m\\x1b[39m\"\\x1b[39m\\x1b[39mcan only compare \\x1b[39m\\x1b[39m\\'\\x1b[39m\\x1b[39m{\\x1b[39;00mcls_self\\x1b[39m}\\x1b[39;00m\\x1b[39m\\'\\x1b[39m\\x1b[39m (not \\x1b[39m\\x1b[39m\\'\\x1b[39m\\x1b[39m{\\x1b[39;00mcls_other\\x1b[39m}\\x1b[39;00m\\x1b[39m\\'\\x1b[39m\\x1b[39m) with \\x1b[39m\\x1b[39m\\'\\x1b[39m\\x1b[39m{\\x1b[39;00mcls_self\\x1b[39m}\\x1b[39;00m\\x1b[39m\\'\\x1b[39m\\x1b[39m\"\\x1b[39m\\n\\x1b[0;32m   8638\\x1b[0m     )\\n\\x1b[1;32m-> 8640\\x1b[0m mask \\x1b[39m=\\x1b[39m \\x1b[39m~\\x1b[39m((\\x1b[39mself\\x1b[39;49m \\x1b[39m==\\x1b[39;49m other) \\x1b[39m|\\x1b[39m (\\x1b[39mself\\x1b[39m\\x1b[39m.\\x1b[39misna() \\x1b[39m&\\x1b[39m other\\x1b[39m.\\x1b[39misna()))\\n\\x1b[0;32m   8641\\x1b[0m keys \\x1b[39m=\\x1b[39m [\\x1b[39m\"\\x1b[39m\\x1b[39mself\\x1b[39m\\x1b[39m\"\\x1b[39m, \\x1b[39m\"\\x1b[39m\\x1b[39mother\\x1b[39m\\x1b[39m\"\\x1b[39m]\\n\\x1b[0;32m   8643\\x1b[0m \\x1b[39mif\\x1b[39;00m \\x1b[39mnot\\x1b[39;00m keep_equal:\\n',\n",
       "     'File \\x1b[1;32mc:\\\\Users\\\\Jansen-Lin\\\\anaconda3\\\\envs\\\\Data_Science_2\\\\lib\\\\site-packages\\\\pandas\\\\core\\\\ops\\\\common.py:70\\x1b[0m, in \\x1b[0;36m_unpack_zerodim_and_defer.<locals>.new_method\\x1b[1;34m(self, other)\\x1b[0m\\n\\x1b[0;32m     66\\x1b[0m             \\x1b[39mreturn\\x1b[39;00m \\x1b[39mNotImplemented\\x1b[39m\\n\\x1b[0;32m     68\\x1b[0m other \\x1b[39m=\\x1b[39m item_from_zerodim(other)\\n\\x1b[1;32m---> 70\\x1b[0m \\x1b[39mreturn\\x1b[39;00m method(\\x1b[39mself\\x1b[39;49m, other)\\n',\n",
       "     'File \\x1b[1;32mc:\\\\Users\\\\Jansen-Lin\\\\anaconda3\\\\envs\\\\Data_Science_2\\\\lib\\\\site-packages\\\\pandas\\\\core\\\\arraylike.py:40\\x1b[0m, in \\x1b[0;36mOpsMixin.__eq__\\x1b[1;34m(self, other)\\x1b[0m\\n\\x1b[0;32m     38\\x1b[0m \\x1b[39m@unpack_zerodim_and_defer\\x1b[39m(\\x1b[39m\"\\x1b[39m\\x1b[39m__eq__\\x1b[39m\\x1b[39m\"\\x1b[39m)\\n\\x1b[0;32m     39\\x1b[0m \\x1b[39mdef\\x1b[39;00m \\x1b[39m__eq__\\x1b[39m(\\x1b[39mself\\x1b[39m, other):\\n\\x1b[1;32m---> 40\\x1b[0m     \\x1b[39mreturn\\x1b[39;00m \\x1b[39mself\\x1b[39;49m\\x1b[39m.\\x1b[39;49m_cmp_method(other, operator\\x1b[39m.\\x1b[39;49meq)\\n',\n",
       "     'File \\x1b[1;32mc:\\\\Users\\\\Jansen-Lin\\\\anaconda3\\\\envs\\\\Data_Science_2\\\\lib\\\\site-packages\\\\pandas\\\\core\\\\frame.py:6931\\x1b[0m, in \\x1b[0;36mDataFrame._cmp_method\\x1b[1;34m(self, other, op)\\x1b[0m\\n\\x1b[0;32m   6928\\x1b[0m \\x1b[39mdef\\x1b[39;00m \\x1b[39m_cmp_method\\x1b[39m(\\x1b[39mself\\x1b[39m, other, op):\\n\\x1b[0;32m   6929\\x1b[0m     axis \\x1b[39m=\\x1b[39m \\x1b[39m1\\x1b[39m  \\x1b[39m# only relevant for Series other case\\x1b[39;00m\\n\\x1b[1;32m-> 6931\\x1b[0m     \\x1b[39mself\\x1b[39m, other \\x1b[39m=\\x1b[39m ops\\x1b[39m.\\x1b[39;49malign_method_FRAME(\\x1b[39mself\\x1b[39;49m, other, axis, flex\\x1b[39m=\\x1b[39;49m\\x1b[39mFalse\\x1b[39;49;00m, level\\x1b[39m=\\x1b[39;49m\\x1b[39mNone\\x1b[39;49;00m)\\n\\x1b[0;32m   6933\\x1b[0m     \\x1b[39m# See GH#4537 for discussion of scalar op behavior\\x1b[39;00m\\n\\x1b[0;32m   6934\\x1b[0m     new_data \\x1b[39m=\\x1b[39m \\x1b[39mself\\x1b[39m\\x1b[39m.\\x1b[39m_dispatch_frame_op(other, op, axis\\x1b[39m=\\x1b[39maxis)\\n',\n",
       "     'File \\x1b[1;32mc:\\\\Users\\\\Jansen-Lin\\\\anaconda3\\\\envs\\\\Data_Science_2\\\\lib\\\\site-packages\\\\pandas\\\\core\\\\ops\\\\__init__.py:289\\x1b[0m, in \\x1b[0;36malign_method_FRAME\\x1b[1;34m(left, right, axis, flex, level)\\x1b[0m\\n\\x1b[0;32m    287\\x1b[0m             left, right \\x1b[39m=\\x1b[39m left\\x1b[39m.\\x1b[39malign(right, join\\x1b[39m=\\x1b[39m\\x1b[39m\"\\x1b[39m\\x1b[39mouter\\x1b[39m\\x1b[39m\"\\x1b[39m, level\\x1b[39m=\\x1b[39mlevel, copy\\x1b[39m=\\x1b[39m\\x1b[39mFalse\\x1b[39;00m)\\n\\x1b[0;32m    288\\x1b[0m         \\x1b[39melse\\x1b[39;00m:\\n\\x1b[1;32m--> 289\\x1b[0m             \\x1b[39mraise\\x1b[39;00m \\x1b[39mValueError\\x1b[39;00m(\\n\\x1b[0;32m    290\\x1b[0m                 \\x1b[39m\"\\x1b[39m\\x1b[39mCan only compare identically-labeled DataFrame objects\\x1b[39m\\x1b[39m\"\\x1b[39m\\n\\x1b[0;32m    291\\x1b[0m             )\\n\\x1b[0;32m    292\\x1b[0m \\x1b[39melif\\x1b[39;00m \\x1b[39misinstance\\x1b[39m(right, ABCSeries):\\n\\x1b[0;32m    293\\x1b[0m     \\x1b[39m# axis=1 is default for DataFrame-with-Series op\\x1b[39;00m\\n\\x1b[0;32m    294\\x1b[0m     axis \\x1b[39m=\\x1b[39m left\\x1b[39m.\\x1b[39m_get_axis_number(axis) \\x1b[39mif\\x1b[39;00m axis \\x1b[39mis\\x1b[39;00m \\x1b[39mnot\\x1b[39;00m \\x1b[39mNone\\x1b[39;00m \\x1b[39melse\\x1b[39;00m \\x1b[39m1\\x1b[39m\\n',\n",
       "     '\\x1b[1;31mValueError\\x1b[0m: Can only compare identically-labeled DataFrame objects']}],\n",
       "  'source': '# Compare the two DataFrames and identify the differences\\ndiff = df1.compare(df2)\\n'},\n",
       " {'cell_type': 'code',\n",
       "  'execution_count': 9,\n",
       "  'metadata': {},\n",
       "  'outputs': [{'name': 'stdout',\n",
       "    'output_type': 'stream',\n",
       "    'text': 'The differences between the two sheets are:\\n'},\n",
       "   {'data': {'text/html': '<div>\\n<style scoped>\\n    .dataframe tbody tr th:only-of-type {\\n        vertical-align: middle;\\n    }\\n\\n    .dataframe tbody tr th {\\n        vertical-align: top;\\n    }\\n\\n    .dataframe thead tr th {\\n        text-align: left;\\n    }\\n</style>\\n<table border=\"1\" class=\"dataframe\">\\n  <thead>\\n  </thead>\\n  <tbody>\\n  </tbody>\\n</table>\\n</div>',\n",
       "     'text/plain': 'Empty DataFrame\\nColumns: []\\nIndex: []'},\n",
       "    'execution_count': 9,\n",
       "    'metadata': {},\n",
       "    'output_type': 'execute_result'}],\n",
       "  'source': 'print(\"The differences between the two sheets are:\")\\ndiff\\n'},\n",
       " {'cell_type': 'code',\n",
       "  'execution_count': None,\n",
       "  'metadata': {},\n",
       "  'outputs': [],\n",
       "  'source': ''}]"
      ]
     },
     "execution_count": 14,
     "metadata": {},
     "output_type": "execute_result"
    }
   ],
   "source": [
    "notebook.cells"
   ]
  },
  {
   "cell_type": "code",
   "execution_count": 15,
   "metadata": {},
   "outputs": [
    {
     "name": "stdout",
     "output_type": "stream",
     "text": [
      "notebook_1.ipynb\n",
      "Resume details generation tool\n",
      "This aims to output resume details from my source details in excel sheet.\n",
      "\n",
      "notebook_10.ipynb\n",
      "Polars: The Super Fast Dataframe Library for Python ... bye bye Pandas?\n",
      "[Polars: The Super Fast Dataframe Library for Python ... bye bye Pandas?](https://www.youtube.com/watch?v=CByx7XjYMhw) <br> To install polars: https://pypi.org/project/polars/\n",
      "\n",
      "notebook_11_sound.ipynb\n",
      "Mp3 audio cutting and analysis\n",
      "Original intention was to use this to cut away useless part of a long mp3 audio. Also wanted to visualise the sound wave to know when to cut. Later found fffmpeg which runs by typing on command line.\n",
      "\n",
      "notebook_2.ipynb\n",
      "Convert Excel table to Markdown syntax\n",
      "Because typing out the markdown code for a table is tough and tedious, therefore, I use python to help me generate the markdown syntax from excel tables. Excel tables makes it more user friendly for data entry.\n",
      "\n",
      "notebook_2_private.ipynb\n",
      "Convert Excel table to Markdown syntax\n",
      "Because typing out the markdown code for a table is tough and tedious, therefore, I use python to help me generate the markdown syntax from excel tables. Excel tables makes it more user friendly for data entry.\n",
      "\n",
      "notebook_3.ipynb\n",
      "Time Series Forecasting with XGBoost - Use python and machine learning to predict energy consumption\n",
      "https://www.youtube.com/watch?v=vV12dGe_Fho <br> Time Series Forecasting with XGBoost - Use python and machine learning to predict energy consumption \n",
      "\n",
      "notebook_4.ipynb\n",
      "Make Your Pandas Code Lightning Fast\n",
      "[Make Your Pandas Code Lightning Fast](https://www.youtube.com/watch?v=SAFmrTnEHLg) <br> Speed up slow pandas/python code by 2500x using this simple trick. Face it, your pandas code is slow. Learn how to speed it up! In this video Rob discusses a key trick to making your code faster! Pandas is an essential tool for any python programmer and data scientist. Using the pandas apply function, using vectorized functions, the speed difference can be significant. Write faster python code.\n",
      "\n",
      "notebook_5.ipynb\n",
      "Try out dask\n",
      "To find out what dask can do and have some hands on with codes.\n",
      "\n",
      "notebook_6.ipynb\n",
      "Doing diff on resume (docx)\n",
      "Compare two resumes in docx format.\n",
      "\n",
      "notebook_7.ipynb\n",
      "This INCREDIBLE trick will speed up your data processes.\n",
      "https://www.youtube.com/watch?v=u4rsA5ZiTls <br> CSV/Pickle/Feather/Parquet/Other Options/Benchmarking \n",
      "\n",
      "notebook_8.ipynb\n",
      "To get the index of some numbers from a list of more numbers.\n",
      "I was checking ChatGPT's solution.\n",
      "\n",
      "notebook_9_private.ipynb\n",
      "To compare two excel sheet for differences\n",
      "\n",
      "\n"
     ]
    }
   ],
   "source": [
    "# Print the titles and descriptions in the order of the notebook names\n",
    "for notebook_name in notebook_names:\n",
    "  title, description = titles_and_descriptions[notebook_name]\n",
    "  print(notebook_name)\n",
    "  print(title)\n",
    "  print(description)\n",
    "  print()\n"
   ]
  },
  {
   "cell_type": "code",
   "execution_count": 16,
   "metadata": {},
   "outputs": [],
   "source": [
    "with open(\"Notebooks_Title_and_Description.md\", \"w\") as f:\n",
    "    f.write(\"## Notebook Contents\")\n",
    "    f.write(\"\\n\\n\")\n",
    "\n",
    "with open(\"Notebooks_Title_and_Description.md\", \"a\") as f:\n",
    "    for notebook_name in notebook_names:\n",
    "        title, description = titles_and_descriptions[notebook_name]\n",
    "        f.write(\"__`\" + notebook_name + \"`__ \" + \" <br>\")\n",
    "        f.write(\"\\n\")\n",
    "        f.write(\"__\" + \"Title:\" + \"__ \")\n",
    "        f.write(title + \" <br>\")\n",
    "        f.write(\"\\n\")\n",
    "        f.write(\"__\" + \"Description:\" + \"__ \")\n",
    "        f.write(description)\n",
    "        f.write(\"\\n\\n\")"
   ]
  },
  {
   "cell_type": "code",
   "execution_count": 17,
   "metadata": {},
   "outputs": [],
   "source": [
    "with open(\"README.md\", \"w\") as f:\n",
    "    f.write(\"# Repo for Test Bedding\")\n",
    "    f.write(\"\\n\\n\")\n",
    "    f.write(\"This is a repo for quick and dirty test bedding of new ideas, new codes, anything useful and interesting, or anything i learnt off youtube, articles, ChatGPT, etc. Mainly notebooks will be used as it is great for visualisation and learning, but there is really no limits here. :)\")\n",
    "    f.write(\"\\n\\n\")\n",
    "    f.write(\"## Notebook Contents\")\n",
    "    f.write(\"\\n\\n\")\n",
    "\n",
    "with open(\"README.md\", \"a\") as f:\n",
    "    for notebook_name in notebook_names:\n",
    "        title, description = titles_and_descriptions[notebook_name]\n",
    "        f.write(\"__`\" + notebook_name + \"`__ \" + \" <br>\")\n",
    "        f.write(\"\\n\")\n",
    "        f.write(\"__\" + \"Title:\" + \"__ \")\n",
    "        f.write(title + \" <br>\")\n",
    "        f.write(\"\\n\")\n",
    "        f.write(\"__\" + \"Description:\" + \"__ \")\n",
    "        f.write(description)\n",
    "        f.write(\"\\n\\n\")"
   ]
  },
  {
   "cell_type": "code",
   "execution_count": null,
   "metadata": {},
   "outputs": [],
   "source": []
  }
 ],
 "metadata": {
  "kernelspec": {
   "display_name": "Data_Science_2",
   "language": "python",
   "name": "python3"
  },
  "language_info": {
   "codemirror_mode": {
    "name": "ipython",
    "version": 3
   },
   "file_extension": ".py",
   "mimetype": "text/x-python",
   "name": "python",
   "nbconvert_exporter": "python",
   "pygments_lexer": "ipython3",
   "version": "3.9.11"
  },
  "orig_nbformat": 4,
  "vscode": {
   "interpreter": {
    "hash": "a831cfbb3de98ce6ab9c871b23d1d16988161c9f19d83b0ffff4cf37458b0f2b"
   }
  }
 },
 "nbformat": 4,
 "nbformat_minor": 2
}
