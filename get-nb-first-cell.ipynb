{
 "cells": [
  {
   "attachments": {},
   "cell_type": "markdown",
   "metadata": {},
   "source": [
    "__Collates all the first cell of .ipynb files found in folder directory `notebooks/`.__ <br>\n",
    "Just `Run All` to generate this collated first cells."
   ]
  },
  {
   "cell_type": "code",
   "execution_count": 1,
   "metadata": {},
   "outputs": [],
   "source": [
    "import os\n",
    "import re\n",
    "import nbformat\n"
   ]
  },
  {
   "cell_type": "code",
   "execution_count": 2,
   "metadata": {},
   "outputs": [],
   "source": [
    "\n",
    "# Change this to the directory containing your notebooks\n",
    "notebook_dir = 'notebook'"
   ]
  },
  {
   "cell_type": "code",
   "execution_count": 3,
   "metadata": {},
   "outputs": [
    {
     "data": {
      "text/plain": [
       "['notebook_1.ipynb',\n",
       " 'notebook_2.ipynb',\n",
       " 'notebook_2_private.ipynb',\n",
       " 'notebook_3.ipynb',\n",
       " 'notebook_4.ipynb',\n",
       " 'notebook_5.ipynb',\n",
       " 'notebook_6.ipynb',\n",
       " 'notebook_7.ipynb']"
      ]
     },
     "execution_count": 3,
     "metadata": {},
     "output_type": "execute_result"
    }
   ],
   "source": [
    "\n",
    "# Collect the names of all notebooks in the directory\n",
    "notebook_names = [f for f in os.listdir(notebook_dir) if f.endswith('.ipynb')]\n",
    "notebook_names"
   ]
  },
  {
   "cell_type": "code",
   "execution_count": 4,
   "metadata": {},
   "outputs": [],
   "source": [
    "# Initialize an empty dictionary to store the titles and descriptions\n",
    "titles_and_descriptions = {}\n",
    "\n",
    "# Iterate over the notebooks\n",
    "for notebook_name in notebook_names:\n",
    "  # Read the notebook file\n",
    "  with open(os.path.join(notebook_dir, notebook_name), 'r') as f:\n",
    "    notebook = nbformat.reads(f.read(), as_version=4)\n",
    "    # print(\"notebook\", notebook)\n",
    "  \n",
    "  # Extract the first markdown cell\n",
    "  markdown_cells = [cell for cell in notebook['cells'] if cell['cell_type'] == 'markdown']\n",
    "  if markdown_cells:\n",
    "    markdown_cell = markdown_cells[0]\n",
    "    # print(\"markdown_cell\", markdown_cell)\n",
    "    \n",
    "    # Extract the title from the markdown cell (assumes it is the first line)\n",
    "    title_match = re.match(r'# (.*)', markdown_cell['source'])\n",
    "    if title_match:\n",
    "      title = title_match.group(1)\n",
    "    else:\n",
    "      title = 'No title found'\n",
    "      \n",
    "    # Extract the description from the markdown cell (assumes it is everything after the first line)\n",
    "    description_match = re.match(r'# (.*)\\n(.*)', markdown_cell['source'], re.DOTALL)\n",
    "    if description_match:\n",
    "      description = description_match.group(2)\n",
    "    else:\n",
    "      description = 'No description found'\n",
    "      \n",
    "    # Add the title and description to the dictionary using the notebook name as the key\n",
    "    titles_and_descriptions[notebook_name] = (title, description)\n",
    "  else:\n",
    "    # If no markdown cell was found, add a placeholder\n",
    "    titles_and_descriptions[notebook_name] = ('No markdown cell found', 'No markdown cell found')\n"
   ]
  },
  {
   "cell_type": "code",
   "execution_count": 5,
   "metadata": {},
   "outputs": [
    {
     "name": "stdout",
     "output_type": "stream",
     "text": [
      "yes\n"
     ]
    }
   ],
   "source": [
    "if titles_and_descriptions is not None:\n",
    "    print(\"yes\")\n",
    "else:\n",
    "    print(\"No\")\n"
   ]
  },
  {
   "cell_type": "code",
   "execution_count": 6,
   "metadata": {},
   "outputs": [],
   "source": [
    "# description_match.group(2)\n"
   ]
  },
  {
   "cell_type": "code",
   "execution_count": 7,
   "metadata": {},
   "outputs": [],
   "source": [
    "# description_match.group(1)"
   ]
  },
  {
   "cell_type": "code",
   "execution_count": 8,
   "metadata": {},
   "outputs": [],
   "source": [
    "# description_match.group(0)"
   ]
  },
  {
   "cell_type": "code",
   "execution_count": 9,
   "metadata": {},
   "outputs": [
    {
     "data": {
      "text/plain": [
       "'This INCREDIBLE trick will speed up your data processes.'"
      ]
     },
     "execution_count": 9,
     "metadata": {},
     "output_type": "execute_result"
    }
   ],
   "source": [
    "title\n"
   ]
  },
  {
   "cell_type": "code",
   "execution_count": 10,
   "metadata": {},
   "outputs": [
    {
     "data": {
      "text/plain": [
       "'This INCREDIBLE trick will speed up your data processes.'"
      ]
     },
     "execution_count": 10,
     "metadata": {},
     "output_type": "execute_result"
    }
   ],
   "source": [
    "title_match.group(1)"
   ]
  },
  {
   "cell_type": "code",
   "execution_count": 11,
   "metadata": {},
   "outputs": [
    {
     "data": {
      "text/plain": [
       "'# This INCREDIBLE trick will speed up your data processes.'"
      ]
     },
     "execution_count": 11,
     "metadata": {},
     "output_type": "execute_result"
    }
   ],
   "source": [
    "title_match.group(0)"
   ]
  },
  {
   "cell_type": "code",
   "execution_count": 12,
   "metadata": {},
   "outputs": [
    {
     "data": {
      "text/plain": [
       "<re.Match object; span=(0, 58), match='# This INCREDIBLE trick will speed up your data p>"
      ]
     },
     "execution_count": 12,
     "metadata": {},
     "output_type": "execute_result"
    }
   ],
   "source": [
    "title_match\n"
   ]
  },
  {
   "cell_type": "code",
   "execution_count": 13,
   "metadata": {},
   "outputs": [
    {
     "data": {
      "text/plain": [
       "{'attachments': {},\n",
       " 'cell_type': 'markdown',\n",
       " 'metadata': {},\n",
       " 'source': '# This INCREDIBLE trick will speed up your data processes.\\n\\nhttps://www.youtube.com/watch?v=u4rsA5ZiTls <br> CSV/Pickle/Feather/Parquet/Other Options/Benchmarking '}"
      ]
     },
     "execution_count": 13,
     "metadata": {},
     "output_type": "execute_result"
    }
   ],
   "source": [
    "markdown_cell\n"
   ]
  },
  {
   "cell_type": "code",
   "execution_count": 14,
   "metadata": {},
   "outputs": [
    {
     "data": {
      "text/plain": [
       "[{'attachments': {},\n",
       "  'cell_type': 'markdown',\n",
       "  'metadata': {},\n",
       "  'source': '# This INCREDIBLE trick will speed up your data processes.\\n\\nhttps://www.youtube.com/watch?v=u4rsA5ZiTls <br> CSV/Pickle/Feather/Parquet/Other Options/Benchmarking '},\n",
       " {'cell_type': 'code',\n",
       "  'execution_count': 1,\n",
       "  'metadata': {},\n",
       "  'outputs': [],\n",
       "  'source': 'import pandas as pd\\nimport numpy as np'},\n",
       " {'attachments': {},\n",
       "  'cell_type': 'markdown',\n",
       "  'metadata': {},\n",
       "  'source': '## Create our dataset'},\n",
       " {'cell_type': 'code',\n",
       "  'execution_count': 2,\n",
       "  'metadata': {},\n",
       "  'outputs': [],\n",
       "  'source': \"def get_dataset(size):\\n    # Create Fake Dataset\\n    df = pd.DataFrame()\\n    df['size'] = np.random.choice(['big', 'medium', 'small'], size)\\n    df['age'] = np.random.randint(1, 50, size)\\n    df['team'] = np.random.choice(['red', 'blue', 'yellow', 'green'], size)\\n    df['win'] = np.random.choice(['yes', 'no'], size)\\n    dates = pd.date_range('2020-01-01', '2022-12-31')\\n    df['date'] = np.random.choice(dates, size)\\n    df['prob'] = np.random.uniform(0, 1, size)\\n    return df\\n\"},\n",
       " {'cell_type': 'code',\n",
       "  'execution_count': 3,\n",
       "  'metadata': {},\n",
       "  'outputs': [],\n",
       "  'source': 'def set_dtypes(df):\\n    \"\"\"\\n    Setting and casting the different columns to specific\\n    d-types.\\n    (Helps make our data frame memory efficient)\\n\\n    \"\"\"\\n    df[\\'size\\'] = df[\\'size\\'].astype(\\'category\\')\\n    df[\\'team\\'] = df[\\'team\\'].astype(\\'category\\')\\n    df[\\'age\\'] = df[\\'age\\'].astype(\\'int16\\')\\n    df[\\'win\\'] = df[\\'win\\'].map({\\'yes\\': True, \\'no\\': False})\\n    df[\\'prob\\'] = df[\\'prob\\'].astype(\\'float32\\')\\n    return df\\n'},\n",
       " {'cell_type': 'code',\n",
       "  'execution_count': 5,\n",
       "  'metadata': {},\n",
       "  'outputs': [{'name': 'stdout',\n",
       "    'output_type': 'stream',\n",
       "    'text': \"<class 'pandas.core.frame.DataFrame'>\\nRangeIndex: 1000000 entries, 0 to 999999\\nData columns (total 6 columns):\\n #   Column  Non-Null Count    Dtype         \\n---  ------  --------------    -----         \\n 0   size    1000000 non-null  object        \\n 1   age     1000000 non-null  int32         \\n 2   team    1000000 non-null  object        \\n 3   win     1000000 non-null  object        \\n 4   date    1000000 non-null  datetime64[ns]\\n 5   prob    1000000 non-null  float64       \\ndtypes: datetime64[ns](1), float64(1), int32(1), object(3)\\nmemory usage: 42.0+ MB\\n\"}],\n",
       "  'source': 'df = get_dataset(1_000_000)\\ndf.info()'},\n",
       " {'attachments': {},\n",
       "  'cell_type': 'markdown',\n",
       "  'metadata': {},\n",
       "  'source': '## CSV'},\n",
       " {'cell_type': 'code',\n",
       "  'execution_count': 7,\n",
       "  'metadata': {},\n",
       "  'outputs': [{'name': 'stdout',\n",
       "    'output_type': 'stream',\n",
       "    'text': 'CPU times: total: 5.12 s\\nWall time: 5.22 s\\n'}],\n",
       "  'source': '%%time\\ndf = get_dataset(1_000_000)\\ndf.to_csv(\"../output/nb_7_test_csv.csv\", index=False)'},\n",
       " {'cell_type': 'code',\n",
       "  'execution_count': 8,\n",
       "  'metadata': {},\n",
       "  'outputs': [{'name': 'stdout',\n",
       "    'output_type': 'stream',\n",
       "    'text': 'CPU times: total: 500 ms\\nWall time: 487 ms\\n'}],\n",
       "  'source': '%%time\\ndf = pd.read_csv(\"../output/nb_7_test_csv.csv\")'},\n",
       " {'attachments': {},\n",
       "  'cell_type': 'markdown',\n",
       "  'metadata': {},\n",
       "  'source': \"We are concerned with...\\n- who's going to be reading this file?\\n- csv if it's for someone who needs to open in excel.\\n- csv are not most ideal for efficiency and reduced disk space.\\n\"},\n",
       " {'cell_type': 'code',\n",
       "  'execution_count': 12,\n",
       "  'metadata': {},\n",
       "  'outputs': [{'name': 'stdout',\n",
       "    'output_type': 'stream',\n",
       "    'text': \"<class 'pandas.core.frame.DataFrame'>\\nRangeIndex: 1000000 entries, 0 to 999999\\nData columns (total 6 columns):\\n #   Column  Non-Null Count    Dtype         \\n---  ------  --------------    -----         \\n 0   size    1000000 non-null  category      \\n 1   age     1000000 non-null  int16         \\n 2   team    1000000 non-null  category      \\n 3   win     1000000 non-null  bool          \\n 4   date    1000000 non-null  datetime64[ns]\\n 5   prob    1000000 non-null  float32       \\ndtypes: bool(1), category(2), datetime64[ns](1), float32(1), int16(1)\\nmemory usage: 16.2 MB\\nCPU times: total: 547 ms\\nWall time: 542 ms\\n\"}],\n",
       "  'source': '%%time\\ndf = get_dataset(1_000_000)\\ndf = set_dtypes(df)\\ndf.info()'},\n",
       " {'cell_type': 'code',\n",
       "  'execution_count': 13,\n",
       "  'metadata': {},\n",
       "  'outputs': [],\n",
       "  'source': 'df.to_csv(\"../output/nb_7_test_csv_2.csv\", index=False)\\ndf = pd.read_csv(\"../output/nb_7_test_csv_2.csv\")'},\n",
       " {'cell_type': 'code',\n",
       "  'execution_count': 14,\n",
       "  'metadata': {},\n",
       "  'outputs': [{'name': 'stdout',\n",
       "    'output_type': 'stream',\n",
       "    'text': \"<class 'pandas.core.frame.DataFrame'>\\nRangeIndex: 1000000 entries, 0 to 999999\\nData columns (total 6 columns):\\n #   Column  Non-Null Count    Dtype  \\n---  ------  --------------    -----  \\n 0   size    1000000 non-null  object \\n 1   age     1000000 non-null  int64  \\n 2   team    1000000 non-null  object \\n 3   win     1000000 non-null  bool   \\n 4   date    1000000 non-null  object \\n 5   prob    1000000 non-null  float64\\ndtypes: bool(1), float64(1), int64(1), object(3)\\nmemory usage: 39.1+ MB\\n\"}],\n",
       "  'source': 'df.info()'},\n",
       " {'cell_type': 'code',\n",
       "  'execution_count': 19,\n",
       "  'metadata': {},\n",
       "  'outputs': [{'name': 'stdout',\n",
       "    'output_type': 'stream',\n",
       "    'text': \"<class 'pandas.core.frame.DataFrame'>\\nRangeIndex: 1000000 entries, 0 to 999999\\nData columns (total 6 columns):\\n #   Column  Non-Null Count    Dtype   \\n---  ------  --------------    -----   \\n 0   size    1000000 non-null  category\\n 1   age     1000000 non-null  int16   \\n 2   team    1000000 non-null  category\\n 3   win     1000000 non-null  bool    \\n 4   date    1000000 non-null  object  \\n 5   prob    1000000 non-null  float64 \\ndtypes: bool(1), category(2), float64(1), int16(1), object(1)\\nmemory usage: 20.0+ MB\\n\"}],\n",
       "  'source': 'df = pd.read_csv(\"../output/nb_7_test_csv_2.csv\", \\n                dtype={\\n                    \\'size\\':\\'category\\',\\n                    \\'age\\':\\'int16\\',\\n                    \\'team\\':\\'category\\',})\\ndf.info()'},\n",
       " {'attachments': {},\n",
       "  'cell_type': 'markdown',\n",
       "  'metadata': {},\n",
       "  'source': '## Pickle'},\n",
       " {'cell_type': 'code',\n",
       "  'execution_count': 38,\n",
       "  'metadata': {},\n",
       "  'outputs': [{'name': 'stdout',\n",
       "    'output_type': 'stream',\n",
       "    'text': 'CPU times: total: 15.6 ms\\nWall time: 10.5 ms\\nCPU times: total: 0 ns\\nWall time: 12.1 ms\\n'}],\n",
       "  'source': \"df = get_dataset(1_000_000)\\ndf = set_dtypes(df)\\n%time df.to_pickle('../output/nb_7_test.pickle')\\n%time df_pickle = pd.read_pickle('../output/nb_7_test.pickle')\"},\n",
       " {'cell_type': 'code',\n",
       "  'execution_count': 39,\n",
       "  'metadata': {},\n",
       "  'outputs': [{'name': 'stdout',\n",
       "    'output_type': 'stream',\n",
       "    'text': \"<class 'pandas.core.frame.DataFrame'>\\nRangeIndex: 1000000 entries, 0 to 999999\\nData columns (total 6 columns):\\n #   Column  Non-Null Count    Dtype         \\n---  ------  --------------    -----         \\n 0   size    1000000 non-null  category      \\n 1   age     1000000 non-null  int16         \\n 2   team    1000000 non-null  category      \\n 3   win     1000000 non-null  bool          \\n 4   date    1000000 non-null  datetime64[ns]\\n 5   prob    1000000 non-null  float32       \\ndtypes: bool(1), category(2), datetime64[ns](1), float32(1), int16(1)\\nmemory usage: 16.2 MB\\n\"}],\n",
       "  'source': 'df_pickle.info()'},\n",
       " {'attachments': {},\n",
       "  'cell_type': 'markdown',\n",
       "  'metadata': {},\n",
       "  'source': '# Parquet\\n```\\n    !pip install pyarrow\\n    !pip install fastparquet\\n```'},\n",
       " {'cell_type': 'code',\n",
       "  'execution_count': 40,\n",
       "  'metadata': {},\n",
       "  'outputs': [{'name': 'stdout',\n",
       "    'output_type': 'stream',\n",
       "    'text': 'CPU times: total: 93.8 ms\\nWall time: 101 ms\\nCPU times: total: 46.9 ms\\nWall time: 30.3 ms\\n'}],\n",
       "  'source': 'df = get_dataset(1_000_000)\\ndf = set_dtypes(df)\\n%time df.to_parquet(\"../output/nb_7_test.parquet\")\\n%time df_parquet = pd.read_parquet(\"../output/nb_7_test.parquet\")'},\n",
       " {'cell_type': 'code',\n",
       "  'execution_count': 41,\n",
       "  'metadata': {},\n",
       "  'outputs': [{'name': 'stdout',\n",
       "    'output_type': 'stream',\n",
       "    'text': \"<class 'pandas.core.frame.DataFrame'>\\nRangeIndex: 1000000 entries, 0 to 999999\\nData columns (total 6 columns):\\n #   Column  Non-Null Count    Dtype         \\n---  ------  --------------    -----         \\n 0   size    1000000 non-null  category      \\n 1   age     1000000 non-null  int16         \\n 2   team    1000000 non-null  category      \\n 3   win     1000000 non-null  bool          \\n 4   date    1000000 non-null  datetime64[ns]\\n 5   prob    1000000 non-null  float32       \\ndtypes: bool(1), category(2), datetime64[ns](1), float32(1), int16(1)\\nmemory usage: 16.2 MB\\n\"}],\n",
       "  'source': 'df_parquet.info()'},\n",
       " {'attachments': {},\n",
       "  'cell_type': 'markdown',\n",
       "  'metadata': {},\n",
       "  'source': '## Feather'},\n",
       " {'cell_type': 'code',\n",
       "  'execution_count': 37,\n",
       "  'metadata': {},\n",
       "  'outputs': [{'name': 'stdout',\n",
       "    'output_type': 'stream',\n",
       "    'text': 'CPU times: total: 78.1 ms\\nWall time: 26.6 ms\\nCPU times: total: 31.2 ms\\nWall time: 23.7 ms\\n'}],\n",
       "  'source': 'df = get_dataset(1_000_000)\\ndf = set_dtypes(df)\\n%time df.to_feather(\"../output/nb_7_test.feather\")\\n%time df_feather = pd.read_feather(\"../output/nb_7_test.feather\")'},\n",
       " {'cell_type': 'code',\n",
       "  'execution_count': 42,\n",
       "  'metadata': {},\n",
       "  'outputs': [{'name': 'stdout',\n",
       "    'output_type': 'stream',\n",
       "    'text': \"<class 'pandas.core.frame.DataFrame'>\\nRangeIndex: 1000000 entries, 0 to 999999\\nData columns (total 6 columns):\\n #   Column  Non-Null Count    Dtype         \\n---  ------  --------------    -----         \\n 0   size    1000000 non-null  category      \\n 1   age     1000000 non-null  int16         \\n 2   team    1000000 non-null  category      \\n 3   win     1000000 non-null  bool          \\n 4   date    1000000 non-null  datetime64[ns]\\n 5   prob    1000000 non-null  float32       \\ndtypes: bool(1), category(2), datetime64[ns](1), float32(1), int16(1)\\nmemory usage: 16.2 MB\\n\"}],\n",
       "  'source': 'df_feather.info()'},\n",
       " {'attachments': {},\n",
       "  'cell_type': 'markdown',\n",
       "  'metadata': {},\n",
       "  'source': '## CSV vs Pickle vs Parquet vs Feather'},\n",
       " {'cell_type': 'code',\n",
       "  'execution_count': 50,\n",
       "  'metadata': {},\n",
       "  'outputs': [{'name': 'stdout',\n",
       "    'output_type': 'stream',\n",
       "    'text': 'Reading and writing CSV\\nCPU times: total: 23.6 s\\nWall time: 23.8 s\\nCPU times: total: 1.8 s\\nWall time: 1.8 s\\n'}],\n",
       "  'source': 'print(\"Reading and writing CSV\")\\ndf = get_dataset(5_000_000)\\ndf = set_dtypes(df)\\n%time df.to_csv(\"../output/nb_7_test_csv_2.csv\", index=False)\\n%time df = pd.read_csv(\"../output/nb_7_test_csv_2.csv\")'},\n",
       " {'cell_type': 'code',\n",
       "  'execution_count': 51,\n",
       "  'metadata': {},\n",
       "  'outputs': [{'name': 'stdout',\n",
       "    'output_type': 'stream',\n",
       "    'text': 'Reading and writing Pickle\\nCPU times: total: 31.2 ms\\nWall time: 48.2 ms\\nCPU times: total: 31.2 ms\\nWall time: 43 ms\\n'}],\n",
       "  'source': 'print(\"Reading and writing Pickle\")\\ndf = get_dataset(5_000_000)\\ndf = set_dtypes(df)\\n%time df.to_pickle(\\'../output/nb_7_test.pickle\\')\\n%time df_pickle = pd.read_pickle(\\'../output/nb_7_test.pickle\\')'},\n",
       " {'cell_type': 'code',\n",
       "  'execution_count': 52,\n",
       "  'metadata': {},\n",
       "  'outputs': [{'name': 'stdout',\n",
       "    'output_type': 'stream',\n",
       "    'text': 'Reading and writing Parquet\\nCPU times: total: 500 ms\\nWall time: 426 ms\\nCPU times: total: 359 ms\\nWall time: 132 ms\\n'}],\n",
       "  'source': 'print(\"Reading and writing Parquet\")\\ndf = get_dataset(5_000_000)\\ndf = set_dtypes(df)\\n%time df.to_parquet(\"../output/nb_7_test.parquet\")\\n%time df_parquet = pd.read_parquet(\"../output/nb_7_test.parquet\")'},\n",
       " {'cell_type': 'code',\n",
       "  'execution_count': 53,\n",
       "  'metadata': {},\n",
       "  'outputs': [{'name': 'stdout',\n",
       "    'output_type': 'stream',\n",
       "    'text': 'Reading and writing Feather\\nCPU times: total: 203 ms\\nWall time: 119 ms\\nCPU times: total: 93.8 ms\\nWall time: 72.4 ms\\n'}],\n",
       "  'source': 'print(\"Reading and writing Feather\")\\ndf = get_dataset(5_000_000)\\ndf = set_dtypes(df)\\n%time df.to_feather(\"../output/nb_7_test.feather\")\\n%time df_feather = pd.read_feather(\"../output/nb_7_test.feather\")\\n'},\n",
       " {'attachments': {'image.png': {'image/png': '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'}},\n",
       "  'cell_type': 'markdown',\n",
       "  'metadata': {},\n",
       "  'source': '![image.png](attachment:image.png)'},\n",
       " {'attachments': {},\n",
       "  'cell_type': 'markdown',\n",
       "  'metadata': {},\n",
       "  'source': 'parquet took least space'},\n",
       " {'cell_type': 'markdown', 'metadata': {}, 'source': ''}]"
      ]
     },
     "execution_count": 14,
     "metadata": {},
     "output_type": "execute_result"
    }
   ],
   "source": [
    "notebook.cells"
   ]
  },
  {
   "cell_type": "code",
   "execution_count": 15,
   "metadata": {},
   "outputs": [
    {
     "name": "stdout",
     "output_type": "stream",
     "text": [
      "notebook_1.ipynb\n",
      "Resume details generation tool\n",
      "This aims to output resume details from my source details in excel sheet.\n",
      "\n",
      "notebook_2.ipynb\n",
      "Convert Excel table to Markdown syntax\n",
      "Because typing out the markdown code for a table is tough and tedious, therefore, I use python to help me generate the markdown syntax from excel tables. Excel tables makes it more user friendly for data entry.\n",
      "\n",
      "notebook_2_private.ipynb\n",
      "Convert Excel table to Markdown syntax\n",
      "Because typing out the markdown code for a table is tough and tedious, therefore, I use python to help me generate the markdown syntax from excel tables. Excel tables makes it more user friendly for data entry.\n",
      "\n",
      "notebook_3.ipynb\n",
      "Time Series Forecasting with XGBoost - Use python and machine learning to predict energy consumption\n",
      "https://www.youtube.com/watch?v=vV12dGe_Fho <br> Time Series Forecasting with XGBoost - Use python and machine learning to predict energy consumption \n",
      "\n",
      "notebook_4.ipynb\n",
      "Make Your Pandas Code Lightning Fast\n",
      "[Make Your Pandas Code Lightning Fast](https://www.youtube.com/watch?v=SAFmrTnEHLg) <br> Speed up slow pandas/python code by 2500x using this simple trick. Face it, your pandas code is slow. Learn how to speed it up! In this video Rob discusses a key trick to making your code faster! Pandas is an essential tool for any python programmer and data scientist. Using the pandas apply function, using vectorized functions, the speed difference can be significant. Write faster python code.\n",
      "\n",
      "notebook_5.ipynb\n",
      "Try out dask\n",
      "To find out what dask can do and have some hands on with codes.\n",
      "\n",
      "notebook_6.ipynb\n",
      "Doing diff on resume (docx)\n",
      "Compare two resumes in docx format.\n",
      "\n",
      "notebook_7.ipynb\n",
      "This INCREDIBLE trick will speed up your data processes.\n",
      "https://www.youtube.com/watch?v=u4rsA5ZiTls <br> CSV/Pickle/Feather/Parquet/Other Options/Benchmarking \n",
      "\n"
     ]
    }
   ],
   "source": [
    "# Print the titles and descriptions in the order of the notebook names\n",
    "for notebook_name in notebook_names:\n",
    "  title, description = titles_and_descriptions[notebook_name]\n",
    "  print(notebook_name)\n",
    "  print(title)\n",
    "  print(description)\n",
    "  print()\n"
   ]
  },
  {
   "cell_type": "code",
   "execution_count": 16,
   "metadata": {},
   "outputs": [],
   "source": [
    "with open(\"Notebooks_Title_and_Description.md\", \"w\") as f:\n",
    "    f.write(\"## Notebook Contents\")\n",
    "    f.write(\"\\n\\n\")\n",
    "\n",
    "with open(\"Notebooks_Title_and_Description.md\", \"a\") as f:\n",
    "    for notebook_name in notebook_names:\n",
    "        title, description = titles_and_descriptions[notebook_name]\n",
    "        f.write(\"__`\" + notebook_name + \"`__ \" + \" <br>\")\n",
    "        f.write(\"\\n\")\n",
    "        f.write(\"__\" + \"Title:\" + \"__ \")\n",
    "        f.write(title + \" <br>\")\n",
    "        f.write(\"\\n\")\n",
    "        f.write(\"__\" + \"Description:\" + \"__ \")\n",
    "        f.write(description)\n",
    "        f.write(\"\\n\\n\")"
   ]
  },
  {
   "cell_type": "code",
   "execution_count": 17,
   "metadata": {},
   "outputs": [],
   "source": [
    "with open(\"README.md\", \"w\") as f:\n",
    "    f.write(\"# Repo for Test Bedding\")\n",
    "    f.write(\"\\n\\n\")\n",
    "    f.write(\"This is a repo for quick and dirty test bedding of new ideas, new codes, anything useful and interesting, or anything i learnt off youtube, articles, ChatGPT, etc. Mainly notebooks will be used as it is great for visualisation and learning, but there is really no limits here. :)\")\n",
    "    f.write(\"\\n\\n\")\n",
    "    f.write(\"## Notebook Contents\")\n",
    "    f.write(\"\\n\\n\")\n",
    "\n",
    "with open(\"README.md\", \"a\") as f:\n",
    "    for notebook_name in notebook_names:\n",
    "        title, description = titles_and_descriptions[notebook_name]\n",
    "        f.write(\"__`\" + notebook_name + \"`__ \" + \" <br>\")\n",
    "        f.write(\"\\n\")\n",
    "        f.write(\"__\" + \"Title:\" + \"__ \")\n",
    "        f.write(title + \" <br>\")\n",
    "        f.write(\"\\n\")\n",
    "        f.write(\"__\" + \"Description:\" + \"__ \")\n",
    "        f.write(description)\n",
    "        f.write(\"\\n\\n\")"
   ]
  },
  {
   "cell_type": "code",
   "execution_count": null,
   "metadata": {},
   "outputs": [],
   "source": []
  }
 ],
 "metadata": {
  "kernelspec": {
   "display_name": "Data_Science_2",
   "language": "python",
   "name": "python3"
  },
  "language_info": {
   "codemirror_mode": {
    "name": "ipython",
    "version": 3
   },
   "file_extension": ".py",
   "mimetype": "text/x-python",
   "name": "python",
   "nbconvert_exporter": "python",
   "pygments_lexer": "ipython3",
   "version": "3.9.11"
  },
  "orig_nbformat": 4,
  "vscode": {
   "interpreter": {
    "hash": "a831cfbb3de98ce6ab9c871b23d1d16988161c9f19d83b0ffff4cf37458b0f2b"
   }
  }
 },
 "nbformat": 4,
 "nbformat_minor": 2
}
