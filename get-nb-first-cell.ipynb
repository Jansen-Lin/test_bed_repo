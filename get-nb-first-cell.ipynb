{
 "cells": [
  {
   "attachments": {},
   "cell_type": "markdown",
   "metadata": {},
   "source": [
    "__Collates all the first cell of .ipynb files found in folder directory `notebooks/`.__ <br>\n",
    "Just `Run All` to generate this collated first cells."
   ]
  },
  {
   "cell_type": "code",
   "execution_count": 1,
   "metadata": {},
   "outputs": [],
   "source": [
    "import os\n",
    "import re\n",
    "import nbformat\n",
    "from natsort import natsorted"
   ]
  },
  {
   "cell_type": "code",
   "execution_count": 2,
   "metadata": {},
   "outputs": [],
   "source": [
    "\n",
    "# Change this to the directory containing your notebooks\n",
    "notebook_dir = 'notebook'"
   ]
  },
  {
   "cell_type": "code",
   "execution_count": 3,
   "metadata": {},
   "outputs": [
    {
     "data": {
      "text/plain": [
       "['_notebook_.ipynb',\n",
       " '_notebook_time_series.ipynb',\n",
       " 'notebook_1.ipynb',\n",
       " 'notebook_2.ipynb',\n",
       " 'notebook_2_private.ipynb',\n",
       " 'notebook_3.ipynb',\n",
       " 'notebook_4.ipynb',\n",
       " 'notebook_5.ipynb',\n",
       " 'notebook_6.ipynb',\n",
       " 'notebook_7.ipynb',\n",
       " 'notebook_8.ipynb',\n",
       " 'notebook_9_private.ipynb',\n",
       " 'notebook_10.ipynb',\n",
       " 'notebook_11_sound.ipynb',\n",
       " 'notebook_pytorch.ipynb',\n",
       " 'segmentation.ipynb',\n",
       " 'whatsapp_message.ipynb']"
      ]
     },
     "execution_count": 3,
     "metadata": {},
     "output_type": "execute_result"
    }
   ],
   "source": [
    "\n",
    "# Collect the names of all notebooks in the directory\n",
    "notebook_names = natsorted([f for f in os.listdir(notebook_dir) if f.endswith('.ipynb')])\n",
    "notebook_names"
   ]
  },
  {
   "cell_type": "code",
   "execution_count": 4,
   "metadata": {},
   "outputs": [],
   "source": [
    "# Initialize an empty dictionary to store the titles and descriptions\n",
    "titles_and_descriptions = {}\n",
    "\n",
    "# Iterate over the notebooks\n",
    "for notebook_name in notebook_names:\n",
    "  # Read the notebook file\n",
    "  with open(os.path.join(notebook_dir, notebook_name), 'r') as f:\n",
    "    notebook = nbformat.reads(f.read(), as_version=4)\n",
    "    # print(\"notebook\", notebook)\n",
    "  \n",
    "  # Extract the first markdown cell\n",
    "  markdown_cells = [cell for cell in notebook['cells'] if cell['cell_type'] == 'markdown']\n",
    "  if markdown_cells:\n",
    "    markdown_cell = markdown_cells[0]\n",
    "    # print(\"markdown_cell\", markdown_cell)\n",
    "    \n",
    "    # Extract the title from the markdown cell (assumes it is the first line)\n",
    "    title_match = re.match(r'# (.*)', markdown_cell['source'])\n",
    "    if title_match:\n",
    "      title = title_match.group(1)\n",
    "    else:\n",
    "      title = 'No title found'\n",
    "      \n",
    "    # Extract the description from the markdown cell (assumes it is everything after the first line)\n",
    "    description_match = re.match(r'# (.*)\\n(.*)', markdown_cell['source'], re.DOTALL)\n",
    "    if description_match:\n",
    "      description = description_match.group(2)\n",
    "    else:\n",
    "      description = 'No description found'\n",
    "      \n",
    "    # Add the title and description to the dictionary using the notebook name as the key\n",
    "    titles_and_descriptions[notebook_name] = (title, description)\n",
    "  else:\n",
    "    # If no markdown cell was found, add a placeholder\n",
    "    titles_and_descriptions[notebook_name] = ('No markdown cell found', 'No markdown cell found')\n"
   ]
  },
  {
   "cell_type": "code",
   "execution_count": 5,
   "metadata": {},
   "outputs": [
    {
     "name": "stdout",
     "output_type": "stream",
     "text": [
      "yes\n"
     ]
    }
   ],
   "source": [
    "if titles_and_descriptions is not None:\n",
    "    print(\"yes\")\n",
    "else:\n",
    "    print(\"No\")\n"
   ]
  },
  {
   "cell_type": "code",
   "execution_count": 6,
   "metadata": {},
   "outputs": [],
   "source": [
    "# description_match.group(2)\n"
   ]
  },
  {
   "cell_type": "code",
   "execution_count": 7,
   "metadata": {},
   "outputs": [],
   "source": [
    "# description_match.group(1)"
   ]
  },
  {
   "cell_type": "code",
   "execution_count": 8,
   "metadata": {},
   "outputs": [],
   "source": [
    "# description_match.group(0)"
   ]
  },
  {
   "cell_type": "code",
   "execution_count": 9,
   "metadata": {},
   "outputs": [
    {
     "data": {
      "text/plain": [
       "'Sending Whatsapp message via python'"
      ]
     },
     "execution_count": 9,
     "metadata": {},
     "output_type": "execute_result"
    }
   ],
   "source": [
    "title\n"
   ]
  },
  {
   "cell_type": "code",
   "execution_count": 10,
   "metadata": {},
   "outputs": [
    {
     "data": {
      "text/plain": [
       "'Sending Whatsapp message via python'"
      ]
     },
     "execution_count": 10,
     "metadata": {},
     "output_type": "execute_result"
    }
   ],
   "source": [
    "title_match.group(1)"
   ]
  },
  {
   "cell_type": "code",
   "execution_count": 11,
   "metadata": {},
   "outputs": [
    {
     "data": {
      "text/plain": [
       "'# Sending Whatsapp message via python'"
      ]
     },
     "execution_count": 11,
     "metadata": {},
     "output_type": "execute_result"
    }
   ],
   "source": [
    "title_match.group(0)"
   ]
  },
  {
   "cell_type": "code",
   "execution_count": 12,
   "metadata": {},
   "outputs": [
    {
     "data": {
      "text/plain": [
       "<re.Match object; span=(0, 37), match='# Sending Whatsapp message via python'>"
      ]
     },
     "execution_count": 12,
     "metadata": {},
     "output_type": "execute_result"
    }
   ],
   "source": [
    "title_match\n"
   ]
  },
  {
   "cell_type": "code",
   "execution_count": 13,
   "metadata": {},
   "outputs": [
    {
     "data": {
      "text/plain": [
       "{'attachments': {},\n",
       " 'cell_type': 'markdown',\n",
       " 'metadata': {},\n",
       " 'source': '# Sending Whatsapp message via python\\n\\nTo try different ways to send whatsapp messages via python. The eventual goal is to integrate this with a system for buy and sell signals for stocks.'}"
      ]
     },
     "execution_count": 13,
     "metadata": {},
     "output_type": "execute_result"
    }
   ],
   "source": [
    "markdown_cell\n"
   ]
  },
  {
   "cell_type": "code",
   "execution_count": 14,
   "metadata": {},
   "outputs": [
    {
     "data": {
      "text/plain": [
       "[{'attachments': {},\n",
       "  'cell_type': 'markdown',\n",
       "  'metadata': {},\n",
       "  'source': '# Sending Whatsapp message via python\\n\\nTo try different ways to send whatsapp messages via python. The eventual goal is to integrate this with a system for buy and sell signals for stocks.'},\n",
       " {'attachments': {},\n",
       "  'cell_type': 'markdown',\n",
       "  'metadata': {},\n",
       "  'source': '## pywhatkit 5.4'},\n",
       " {'attachments': {},\n",
       "  'cell_type': 'markdown',\n",
       "  'metadata': {},\n",
       "  'source': 'https://pypi.org/project/pywhatkit/ <br>\\nhttps://github.com/Ankit404butfound/PyWhatKit/wiki/Sending-WhatsApp-Messages'},\n",
       " {'cell_type': 'code',\n",
       "  'execution_count': 1,\n",
       "  'metadata': {},\n",
       "  'outputs': [],\n",
       "  'source': 'import pywhatkit\\nfrom datetime import datetime\\nfrom datetime import timedelta\\n\\ndef extend_time(seconds=60):\\n    time_start = datetime.now() + timedelta(seconds=60)\\n    time_hour = time_start.hour\\n    time_min = time_start.minute\\n    print(time_start)\\n    print(time_hour, time_min)\\n    return time_hour, time_min'},\n",
       " {'cell_type': 'code',\n",
       "  'execution_count': 3,\n",
       "  'metadata': {},\n",
       "  'outputs': [{'name': 'stdout',\n",
       "    'output_type': 'stream',\n",
       "    'text': '2023-06-25 14:06:46.324044\\n14 6\\nIn 4 Seconds WhatsApp will open and after 10 Seconds Message will be Delivered!\\n'}],\n",
       "  'source': 'message = \"This is my 1st automated message! Hehehehe!\"\\n\\ntime_hour, time_min = extend_time()\\n\\npywhatkit.sendwhatmsg(\\n    phone_no=\"+65 97935363\", message=message,\\n    time_hour=time_hour, time_min=time_min, wait_time=10)'},\n",
       " {'cell_type': 'code',\n",
       "  'execution_count': 4,\n",
       "  'metadata': {},\n",
       "  'outputs': [{'name': 'stdout',\n",
       "    'output_type': 'stream',\n",
       "    'text': '2023-06-25 14:07:38.086630\\n14 7\\nIn 12 Seconds WhatsApp will open and after 10 Seconds Message will be Delivered!\\n'}],\n",
       "  'source': 'message_2 = \"This is my 1st automated group message! Hehehehe!\"\\n\\ntime_hour, time_min = extend_time()\\npywhatkit.sendwhatmsg_to_group(\\n    group_id=\"KbEddEDePOm6eXGRg1GbrT\", #\"Stock Price Alerts\", \\n    message=message_2, time_hour=time_hour, time_min=time_min,\\n    wait_time=10)'},\n",
       " {'cell_type': 'code',\n",
       "  'execution_count': 6,\n",
       "  'metadata': {},\n",
       "  'outputs': [],\n",
       "  'source': 'message_2 = \"This is my 1st automated group message! Hehehehe!\"\\n\\npywhatkit.sendwhatmsg_to_group_instantly(\\n    group_id=\"KbEddEDePOm6eXGRg1GbrT\",\\n    message=message_2,\\n)'},\n",
       " {'cell_type': 'code',\n",
       "  'execution_count': None,\n",
       "  'metadata': {},\n",
       "  'outputs': [],\n",
       "  'source': ''},\n",
       " {'cell_type': 'code',\n",
       "  'execution_count': None,\n",
       "  'metadata': {},\n",
       "  'outputs': [],\n",
       "  'source': ''},\n",
       " {'cell_type': 'code',\n",
       "  'execution_count': None,\n",
       "  'metadata': {},\n",
       "  'outputs': [],\n",
       "  'source': ''},\n",
       " {'cell_type': 'code',\n",
       "  'execution_count': None,\n",
       "  'metadata': {},\n",
       "  'outputs': [],\n",
       "  'source': ''}]"
      ]
     },
     "execution_count": 14,
     "metadata": {},
     "output_type": "execute_result"
    }
   ],
   "source": [
    "notebook.cells"
   ]
  },
  {
   "cell_type": "code",
   "execution_count": 15,
   "metadata": {},
   "outputs": [
    {
     "name": "stdout",
     "output_type": "stream",
     "text": [
      "_notebook_.ipynb\n",
      "Implement Gradient Descent algorithm\n",
      "This is just an attempt to implement gradient descent algorithm, with the help of chatGPT.\n",
      "\n",
      "_notebook_time_series.ipynb\n",
      "Time Series notebook\n",
      "Just to quickly try out anything time-series related\n",
      "\n",
      "notebook_1.ipynb\n",
      "Resume details generation tool\n",
      "This aims to output resume details from my source details in excel sheet.\n",
      "\n",
      "notebook_2.ipynb\n",
      "Convert Excel table to Markdown syntax\n",
      "Because typing out the markdown code for a table is tough and tedious, therefore, I use python to help me generate the markdown syntax from excel tables. Excel tables makes it more user friendly for data entry.\n",
      "\n",
      "notebook_2_private.ipynb\n",
      "Convert Excel table to Markdown syntax\n",
      "Because typing out the markdown code for a table is tough and tedious, therefore, I use python to help me generate the markdown syntax from excel tables. Excel tables makes it more user friendly for data entry.\n",
      "\n",
      "notebook_3.ipynb\n",
      "Time Series Forecasting with XGBoost - Use python and machine learning to predict energy consumption\n",
      "https://www.youtube.com/watch?v=vV12dGe_Fho <br> Time Series Forecasting with XGBoost - Use python and machine learning to predict energy consumption \n",
      "\n",
      "notebook_4.ipynb\n",
      "Make Your Pandas Code Lightning Fast\n",
      "[Make Your Pandas Code Lightning Fast](https://www.youtube.com/watch?v=SAFmrTnEHLg) <br> Speed up slow pandas/python code by 2500x using this simple trick. Face it, your pandas code is slow. Learn how to speed it up! In this video Rob discusses a key trick to making your code faster! Pandas is an essential tool for any python programmer and data scientist. Using the pandas apply function, using vectorized functions, the speed difference can be significant. Write faster python code.\n",
      "\n",
      "notebook_5.ipynb\n",
      "Try out dask\n",
      "To find out what dask can do and have some hands on with codes.\n",
      "\n",
      "notebook_6.ipynb\n",
      "Doing diff on resume (docx)\n",
      "Compare two resumes in docx format.\n",
      "\n",
      "notebook_7.ipynb\n",
      "This INCREDIBLE trick will speed up your data processes.\n",
      "https://www.youtube.com/watch?v=u4rsA5ZiTls <br> CSV/Pickle/Feather/Parquet/Other Options/Benchmarking \n",
      "\n",
      "notebook_8.ipynb\n",
      "To get the index of some numbers from a list of more numbers.\n",
      "I was checking ChatGPT's solution.\n",
      "\n",
      "notebook_9_private.ipynb\n",
      "To compare two excel sheet for differences\n",
      "\n",
      "\n",
      "notebook_10.ipynb\n",
      "Polars: The Super Fast Dataframe Library for Python ... bye bye Pandas?\n",
      "[Polars: The Super Fast Dataframe Library for Python ... bye bye Pandas?](https://www.youtube.com/watch?v=CByx7XjYMhw) <br> To install polars: https://pypi.org/project/polars/\n",
      "\n",
      "notebook_11_sound.ipynb\n",
      "Mp3 audio cutting and analysis\n",
      "Original intention was to use this to cut away useless part of a long mp3 audio. Also wanted to visualise the sound wave to know when to cut. Later found fffmpeg which runs by typing on command line.\n",
      "\n",
      "notebook_pytorch.ipynb\n",
      "[Implementing original U-Net from scratch using PyTorch](https://www.youtube.com/watch?v=u1loyDCoGbE) <br>\n",
      "Abhishek Thakur\n",
      "\n",
      "segmentation.ipynb\n",
      "Image Segmentation with Watershed Algorithm\n",
      "https://docs.opencv.org/4.x/d3/db4/tutorial_py_watershed.html\n",
      "\n",
      "whatsapp_message.ipynb\n",
      "Sending Whatsapp message via python\n",
      "To try different ways to send whatsapp messages via python. The eventual goal is to integrate this with a system for buy and sell signals for stocks.\n",
      "\n"
     ]
    }
   ],
   "source": [
    "# Print the titles and descriptions in the order of the notebook names\n",
    "for notebook_name in notebook_names:\n",
    "  title, description = titles_and_descriptions[notebook_name]\n",
    "  print(notebook_name)\n",
    "  print(title)\n",
    "  print(description)\n",
    "  print()\n"
   ]
  },
  {
   "cell_type": "code",
   "execution_count": 16,
   "metadata": {},
   "outputs": [],
   "source": [
    "with open(\"Notebooks_Title_and_Description.md\", \"w\") as f:\n",
    "    f.write(\"## Notebook Contents\")\n",
    "    f.write(\"\\n\\n\")\n",
    "\n",
    "with open(\"Notebooks_Title_and_Description.md\", \"a\") as f:\n",
    "    for notebook_name in notebook_names:\n",
    "        title, description = titles_and_descriptions[notebook_name]\n",
    "        f.write(\"__`\" + notebook_name + \"`__ \" + \" <br>\")\n",
    "        f.write(\"\\n\")\n",
    "        f.write(\"__\" + \"Title:\" + \"__ \")\n",
    "        f.write(title + \" <br>\")\n",
    "        f.write(\"\\n\")\n",
    "        f.write(\"__\" + \"Description:\" + \"__ \")\n",
    "        f.write(description)\n",
    "        f.write(\"\\n\\n\")"
   ]
  },
  {
   "cell_type": "code",
   "execution_count": 17,
   "metadata": {},
   "outputs": [],
   "source": [
    "with open(\"README.md\", \"w\") as f:\n",
    "    f.write(\"# Repo for Test Bedding\")\n",
    "    f.write(\"\\n\\n\")\n",
    "    f.write(\"This is a repo for quick and dirty test bedding of new ideas, new codes, anything useful and interesting, or anything i learnt off youtube, articles, ChatGPT, etc. Mainly notebooks will be used as it is great for visualisation and learning, but there is really no limits here. :)\")\n",
    "    f.write(\"\\n\\n\")\n",
    "    f.write(\"## Notebook Contents\")\n",
    "    f.write(\"\\n\\n\")\n",
    "\n",
    "with open(\"README.md\", \"a\") as f:\n",
    "    for notebook_name in notebook_names:\n",
    "        title, description = titles_and_descriptions[notebook_name]\n",
    "        f.write(\"__`\" + notebook_name + \"`__ \" + \" <br>\")\n",
    "        f.write(\"\\n\")\n",
    "        f.write(\"__\" + \"Title:\" + \"__ \")\n",
    "        f.write(title + \" <br>\")\n",
    "        f.write(\"\\n\")\n",
    "        f.write(\"__\" + \"Description:\" + \"__ \")\n",
    "        f.write(description)\n",
    "        f.write(\"\\n\\n\")"
   ]
  }
 ],
 "metadata": {
  "kernelspec": {
   "display_name": "Data_Science_2",
   "language": "python",
   "name": "python3"
  },
  "language_info": {
   "codemirror_mode": {
    "name": "ipython",
    "version": 3
   },
   "file_extension": ".py",
   "mimetype": "text/x-python",
   "name": "python",
   "nbconvert_exporter": "python",
   "pygments_lexer": "ipython3",
   "version": "3.9.11"
  },
  "orig_nbformat": 4,
  "vscode": {
   "interpreter": {
    "hash": "a831cfbb3de98ce6ab9c871b23d1d16988161c9f19d83b0ffff4cf37458b0f2b"
   }
  }
 },
 "nbformat": 4,
 "nbformat_minor": 2
}
